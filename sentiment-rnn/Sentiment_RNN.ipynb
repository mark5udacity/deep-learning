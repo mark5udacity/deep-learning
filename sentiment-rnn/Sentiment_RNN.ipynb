{
 "cells": [
  {
   "cell_type": "markdown",
   "metadata": {},
   "source": [
    "# Sentiment Analysis with an RNN\n",
    "\n",
    "In this notebook, you'll implement a recurrent neural network that performs sentiment analysis. Using an RNN rather than a feedfoward network is more accurate since we can include information about the *sequence* of words. Here we'll use a dataset of movie reviews, accompanied by labels.\n",
    "\n",
    "The architecture for this network is shown below.\n",
    "\n",
    "<img src=\"assets/network_diagram.png\" width=400px>\n",
    "\n",
    "Here, we'll pass in words to an embedding layer. We need an embedding layer because we have tens of thousands of words, so we'll need a more efficient representation for our input data than one-hot encoded vectors. You should have seen this before from the word2vec lesson. You can actually train up an embedding with word2vec and use it here. But it's good enough to just have an embedding layer and let the network learn the embedding table on it's own.\n",
    "\n",
    "From the embedding layer, the new representations will be passed to LSTM cells. These will add recurrent connections to the network so we can include information about the sequence of words in the data. Finally, the LSTM cells will go to a sigmoid output layer here. We're using the sigmoid because we're trying to predict if this text has positive or negative sentiment. The output layer will just be a single unit then, with a sigmoid activation function.\n",
    "\n",
    "We don't care about the sigmoid outputs except for the very last one, we can ignore the rest. We'll calculate the cost from the output of the last step and the training label."
   ]
  },
  {
   "cell_type": "code",
   "execution_count": 1,
   "metadata": {
    "collapsed": true
   },
   "outputs": [],
   "source": [
    "import numpy as np\n",
    "import tensorflow as tf\n",
    "from collections import Counter\n",
    "from string import punctuation\n",
    "from random import shuffle"
   ]
  },
  {
   "cell_type": "code",
   "execution_count": 2,
   "metadata": {
    "collapsed": true
   },
   "outputs": [],
   "source": [
    "with open('../sentiment-network/reviews.txt', 'r') as f:\n",
    "    reviews = f.read()\n",
    "with open('../sentiment-network/labels.txt', 'r') as f:\n",
    "    labels = f.read()"
   ]
  },
  {
   "cell_type": "code",
   "execution_count": 3,
   "metadata": {},
   "outputs": [
    {
     "data": {
      "text/plain": [
       "'bromwell high is a cartoon comedy . it ran at the same time as some other programs about school life  such as  teachers  . my   years in the teaching profession lead me to believe that bromwell high  s satire is much closer to reality than is  teachers  . the scramble to survive financially  the insightful students who can see right through their pathetic teachers  pomp  the pettiness of the whole situation  all remind me of the schools i knew and their students . when i saw the episode in which a student repeatedly tried to burn down the school  i immediately recalled . . . . . . . . . at . . . . . . . . . . high . a classic line inspector i  m here to sack one of your teachers . student welcome to bromwell high . i expect that many adults of my age think that bromwell high is far fetched . what a pity that it isn  t   \\nstory of a man who has unnatural feelings for a pig . starts out with a opening scene that is a terrific example of absurd comedy . a formal orchestra audience is turned into an insane  violent mob by the crazy chantings of it  s singers . unfortunately it stays absurd the whole time with no general narrative eventually making it just too off putting . even those from the era should be turned off . the cryptic dialogue would make shakespeare seem easy to a third grader . on a technical level it  s better than you might think with some good cinematography by future great vilmos zsigmond . future stars sally kirkland and frederic forrest can be seen briefly .  \\nhomelessness  or houselessness as george carlin stated  has been an issue for years but never a plan to help those on the street that were once considered human who did everything from going to school  work  or vote for the matter . most people think of the homeless as just a lost cause while worrying about things such as racism  the war on iraq  pressuring kids to succeed  technology  the elections  inflation  or worrying if they  ll be next to end up on the streets .  br    br   but what if y'"
      ]
     },
     "execution_count": 3,
     "metadata": {},
     "output_type": "execute_result"
    }
   ],
   "source": [
    "reviews[:2000]"
   ]
  },
  {
   "cell_type": "markdown",
   "metadata": {},
   "source": [
    "## Data preprocessing\n",
    "\n",
    "The first step when building a neural network model is getting your data into the proper form to feed into the network. Since we're using embedding layers, we'll need to encode each word with an integer. We'll also want to clean it up a bit.\n",
    "\n",
    "You can see an example of the reviews data above. We'll want to get rid of those periods. Also, you might notice that the reviews are delimited with newlines `\\n`. To deal with those, I'm going to split the text into each review using `\\n` as the delimiter. Then I can combined all the reviews back together into one big string.\n",
    "\n",
    "First, let's remove all punctuation. Then get all the text without the newlines and split it into individual words."
   ]
  },
  {
   "cell_type": "code",
   "execution_count": 4,
   "metadata": {
    "collapsed": true
   },
   "outputs": [],
   "source": [
    "all_text = ''.join([c for c in reviews if c not in punctuation])\n",
    "reviews = all_text.split('\\n')\n",
    "\n",
    "all_text = ' '.join(reviews)\n",
    "words = all_text.split()"
   ]
  },
  {
   "cell_type": "code",
   "execution_count": 5,
   "metadata": {},
   "outputs": [
    {
     "data": {
      "text/plain": [
       "'bromwell high is a cartoon comedy  it ran at the same time as some other programs about school life  such as  teachers   my   years in the teaching profession lead me to believe that bromwell high  s satire is much closer to reality than is  teachers   the scramble to survive financially  the insightful students who can see right through their pathetic teachers  pomp  the pettiness of the whole situation  all remind me of the schools i knew and their students  when i saw the episode in which a student repeatedly tried to burn down the school  i immediately recalled          at           high  a classic line inspector i  m here to sack one of your teachers  student welcome to bromwell high  i expect that many adults of my age think that bromwell high is far fetched  what a pity that it isn  t    story of a man who has unnatural feelings for a pig  starts out with a opening scene that is a terrific example of absurd comedy  a formal orchestra audience is turned into an insane  violent mob by the crazy chantings of it  s singers  unfortunately it stays absurd the whole time with no general narrative eventually making it just too off putting  even those from the era should be turned off  the cryptic dialogue would make shakespeare seem easy to a third grader  on a technical level it  s better than you might think with some good cinematography by future great vilmos zsigmond  future stars sally kirkland and frederic forrest can be seen briefly    homelessness  or houselessness as george carlin stated  has been an issue for years but never a plan to help those on the street that were once considered human who did everything from going to school  work  or vote for the matter  most people think of the homeless as just a lost cause while worrying about things such as racism  the war on iraq  pressuring kids to succeed  technology  the elections  inflation  or worrying if they  ll be next to end up on the streets   br    br   but what if you were given a bet to live on the st'"
      ]
     },
     "execution_count": 5,
     "metadata": {},
     "output_type": "execute_result"
    }
   ],
   "source": [
    "all_text[:2000]"
   ]
  },
  {
   "cell_type": "code",
   "execution_count": 6,
   "metadata": {},
   "outputs": [
    {
     "data": {
      "text/plain": [
       "['bromwell',\n",
       " 'high',\n",
       " 'is',\n",
       " 'a',\n",
       " 'cartoon',\n",
       " 'comedy',\n",
       " 'it',\n",
       " 'ran',\n",
       " 'at',\n",
       " 'the',\n",
       " 'same',\n",
       " 'time',\n",
       " 'as',\n",
       " 'some',\n",
       " 'other',\n",
       " 'programs',\n",
       " 'about',\n",
       " 'school',\n",
       " 'life',\n",
       " 'such',\n",
       " 'as',\n",
       " 'teachers',\n",
       " 'my',\n",
       " 'years',\n",
       " 'in']"
      ]
     },
     "execution_count": 6,
     "metadata": {},
     "output_type": "execute_result"
    }
   ],
   "source": [
    "words[:25]"
   ]
  },
  {
   "cell_type": "markdown",
   "metadata": {},
   "source": [
    "### Encoding the words\n",
    "\n",
    "The embedding lookup requires that we pass in integers to our network. The easiest way to do this is to create dictionaries that map the words in the vocabulary to integers. Then we can convert each of our reviews into integers so they can be passed into the network.\n",
    "\n",
    "> **Exercise:** Now you're going to encode the words with integers. Build a dictionary that maps words to integers. Later we're going to pad our input vectors with zeros, so make sure the integers **start at 1, not 0**.\n",
    "> Also, convert the reviews to integers and store the reviews in a new list called `reviews_ints`. "
   ]
  },
  {
   "cell_type": "code",
   "execution_count": 7,
   "metadata": {},
   "outputs": [
    {
     "name": "stdout",
     "output_type": "stream",
     "text": [
      "4620\n",
      "hello\n"
     ]
    }
   ],
   "source": [
    "\n",
    "def create_lookup_tables(words):\n",
    "    \"\"\"\n",
    "    Create lookup tables for vocabulary\n",
    "    :param words: Input list of words\n",
    "    :return: A tuple of dicts.  The first dict....\n",
    "    \"\"\"\n",
    "    word_counts = Counter(words)\n",
    "    sorted_vocab = sorted(word_counts, key=word_counts.get, reverse=True)\n",
    "    int_to_vocab = {ii: word for ii, word in enumerate(sorted_vocab)}\n",
    "    vocab_to_int = {word: ii for ii, word in int_to_vocab.items()}\n",
    "\n",
    "    return vocab_to_int, int_to_vocab\n",
    "\n",
    "# Create your dictionary that maps vocab words to integers here\n",
    "#vocab_to_int = \n",
    "\n",
    "# Convert the reviews to integers, same shape as reviews list, but with integers\n",
    "#reviews_ints = \n",
    "\n",
    "vocab_to_int, int_to_vocab = create_lookup_tables(words)\n",
    "\n",
    "\n",
    "print(vocab_to_int['hello'])\n",
    "print(int_to_vocab[vocab_to_int['hello']])\n",
    "\n",
    "\n",
    "reviews_ints = []\n",
    "for cur_review in reviews:\n",
    "    reviews_ints.append([vocab_to_int[word] for word in cur_review.split()])\n",
    "    \n"
   ]
  },
  {
   "cell_type": "markdown",
   "metadata": {},
   "source": [
    "### Encoding the labels\n",
    "\n",
    "Our labels are \"positive\" or \"negative\". To use these labels in our network, we need to convert them to 0 and 1.\n",
    "\n",
    "> **Exercise:** Convert labels from `positive` and `negative` to 1 and 0, respectively."
   ]
  },
  {
   "cell_type": "code",
   "execution_count": 8,
   "metadata": {},
   "outputs": [
    {
     "name": "stdout",
     "output_type": "stream",
     "text": [
      "[1 0 1 0 1] [1 0 1 0 0]\n"
     ]
    }
   ],
   "source": [
    "# Convert labels to 1s and 0s for 'positive' and 'negative'\n",
    "labels = labels.split('\\n')\n",
    "labels = np.array([1 if cur_l == 'positive' else 0 for cur_l in labels])\n",
    "\n",
    "print(labels[:5], labels[-5:])\n"
   ]
  },
  {
   "cell_type": "markdown",
   "metadata": {},
   "source": [
    "If you built `labels` correctly, you should see the next output."
   ]
  },
  {
   "cell_type": "code",
   "execution_count": 9,
   "metadata": {},
   "outputs": [
    {
     "name": "stdout",
     "output_type": "stream",
     "text": [
      "Zero-length reviews: 1\n",
      "Maximum review length: 2514\n"
     ]
    }
   ],
   "source": [
    "\n",
    "review_lens = Counter([len(x) for x in reviews_ints])\n",
    "print(\"Zero-length reviews: {}\".format(review_lens[0]))\n",
    "print(\"Maximum review length: {}\".format(max(review_lens)))"
   ]
  },
  {
   "cell_type": "markdown",
   "metadata": {},
   "source": [
    "Okay, a couple issues here. We seem to have one review with zero length. And, the maximum review length is way too many steps for our RNN. Let's truncate to 200 steps. For reviews shorter than 200, we'll pad with 0s. For reviews longer than 200, we can truncate them to the first 200 characters.\n",
    "\n",
    "> **Exercise:** First, remove the review with zero length from the `reviews_ints` list."
   ]
  },
  {
   "cell_type": "code",
   "execution_count": 10,
   "metadata": {
    "collapsed": true
   },
   "outputs": [],
   "source": [
    "# Filter out that review with 0 length\n",
    "\n",
    "# reviews_ints = [ word_int for word_int in reviews_ints if len(word_int) != 0 ]\n",
    "\n",
    "non_zero_idx = [idx for idx, review in enumerate(reviews_ints) if len(review) != 0]\n",
    "reviews_ints = [reviews_ints[idx] for idx in non_zero_idx]\n",
    "labels = [labels[idx] for idx in non_zero_idx]"
   ]
  },
  {
   "cell_type": "code",
   "execution_count": 11,
   "metadata": {},
   "outputs": [
    {
     "name": "stdout",
     "output_type": "stream",
     "text": [
      "number of zeros:  0\n",
      "25000 25000\n"
     ]
    }
   ],
   "source": [
    "count = 0\n",
    "#for i, l in zip(reviews_ints, review_lens):\n",
    "for i in reviews_ints:\n",
    "    if len(i) == 0:\n",
    "        count += 1\n",
    "\n",
    "print('number of zeros: ', count)\n",
    "labels = np.array(labels)\n",
    "print(len(reviews_ints), len(labels))"
   ]
  },
  {
   "cell_type": "markdown",
   "metadata": {},
   "source": [
    "> **Exercise:** Now, create an array `features` that contains the data we'll pass to the network. The data should come from `review_ints`, since we want to feed integers to the network. Each row should be 200 elements long. For reviews shorter than 200 words, left pad with 0s. That is, if the review is `['best', 'movie', 'ever']`, `[117, 18, 128]` as integers, the row will look like `[0, 0, 0, ..., 0, 117, 18, 128]`. For reviews longer than 200, use on the first 200 words as the feature vector.\n",
    "\n",
    "This isn't trivial and there are a bunch of ways to do this. But, if you're going to be building your own deep learning networks, you're going to have to get used to preparing your data.\n",
    "\n"
   ]
  },
  {
   "cell_type": "code",
   "execution_count": 12,
   "metadata": {},
   "outputs": [
    {
     "data": {
      "text/plain": [
       "array([[    0,     0,     0,     0,     0,     0,     0,     0,     0,\n",
       "            0,     0,     0,     0,     0,     0,     0,     0,     0,\n",
       "            0,     0,     0,     0,     0,     0,     0,     0,     0,\n",
       "            0,     0,     0,     0,     0,     0,     0,     0,     0,\n",
       "            0,     0,     0,     0,     0,     0,     0,     0,     0,\n",
       "            0,     0,     0,     0,     0,     0,     0,     0,     0,\n",
       "            0,     0,     0,     0,     0,     0, 21569,   307,     5,\n",
       "            2,  1050,   206,     7,  2139,    31,     0,   170,    56,\n",
       "           14,    48,    80,  5838,    43,   381,   109,   139,    14,\n",
       "         5197,    59,   153,     8,     0,  4977,  5894,   474,    70,\n",
       "            4,   259,    11, 21569,   307,    12,  1978,     5,    73,\n",
       "         2401],\n",
       "       [    0,     0,     0,     0,     0,     0,     0,     0,     0,\n",
       "            0,     0,     0,     0,     0,     0,     0,     0,     0,\n",
       "            0,     0,     0,     0,     0,     0,     0,     0,     0,\n",
       "            0,     0,     0,     0,     0,     0,     0,     0,     0,\n",
       "            0,     0,     0,     0,     0,     0,     0,     0,     0,\n",
       "            0,     0,     0,     0,     0,     0,     0,     0,     0,\n",
       "            0,     0,     0,     0,     0,     0,     0,     0,     0,\n",
       "            0,     0,     0,     0,     0,     0,     0,     0,     0,\n",
       "            0,     0,     0,     0,     0,     0,     0,     0,     0,\n",
       "            0,     0,     0,     0,     0,    62,     3,     2,   124,\n",
       "           35,    46,  7549,  1396,    15,     2,  4207,   504,    44,\n",
       "           16],\n",
       "       [22731,    41, 66817,    14,   705, 17198,  3398,    46,    76,\n",
       "           34,  1819,    15,   153,    18,   113,     2,  1308,     4,\n",
       "          335,   146,    21,     0,   856,    11,    69,   280,  1168,\n",
       "          398,    35,   119,   282,    37,   168,     4,   381,   157,\n",
       "           41,  2268,    15,     0,   540,    89,    77,   101,     3,\n",
       "            0,  3256,    14,    42,     2,   406,  1067,   135,  8102,\n",
       "           43,   181,   139,    14,  3054,     0,   319,    21,  4820,\n",
       "        27574,   345,     4,  3093,  2094,     0, 19277, 18183,    41,\n",
       "         8102,    45,    32,   235,    28,   369,     4,   129,    55,\n",
       "           21,     0,  1928,     6,     6,    18,    47,    45,    20,\n",
       "           69,   343,     2,  2101,     4,   407,    21,     0,  1928,\n",
       "           15],\n",
       "       [ 4523,   504,    14,     2,  3348,   161,  8311,  1652,     5,\n",
       "         4837,    55,    16,  4521,  5638,   139, 11898,     4,   996,\n",
       "         4949,  2935,  4466,   565,  1200,    35,     5,  1519,    95,\n",
       "            2,   743,     3, 28101,    12,     4,    26,  3467,     8,\n",
       "        10784,     3,     7,   110,  3024,     4,     0,  1027,    14,\n",
       "            2,  4393,    81,    21,  2055,     5,  4466,   537,  2764,\n",
       "         7078, 41742,    40,   462,     0,  8311, 60356,   301,   122,\n",
       "           14,  4250,    18,  1668,   922,     0,  1652,     5,  6168,\n",
       "        19910,    33,     0,   979,  1751, 23706,   645, 25461,    26,\n",
       "          105, 12028,    12, 14382, 15099, 18573,  2460,   465, 21311,\n",
       "           35,  3266,     0,  6374,  1019,    44,    16,  2704,  2503,\n",
       "           32],\n",
       "       [    0,     0,     0,     0,     0,     0,     0,     0,     0,\n",
       "            0,     0,     0,     0,     0,     0,     0,     0,     0,\n",
       "            0,     0,     0,     0,     0,     0,     0,     0,     0,\n",
       "            0,     0,     0,     0,     0,     0,     0,     0,     0,\n",
       "            0,     0,     0,     0,     0,     0,     0,     0,     0,\n",
       "            0,     0,     0,     0,     0,   519,   118,   112,    33,\n",
       "        16806,  1817,  3759,   116,   884, 22247,   720,     9,    27,\n",
       "          123,   107,     1,   114,   136,     8,  1626,  7700,    25,\n",
       "          329,     4,   588,     0,  6155,    21,   385,     5,     2,\n",
       "          348,    14,    49,    14,   230,     8,  7519, 11427,     0,\n",
       "          190,    21,  9020,     5,    81,   879,   100,   110,  3595,\n",
       "            3],\n",
       "       [    0,     0,     0,     0,     0,     0,     0,     0,     0,\n",
       "            0,     0,     0,     0,     0,     0,     0,     0,     0,\n",
       "            0,     0,     0,     0,     0,     0,     0,     0,     0,\n",
       "            0,     0,     0,     0,     0,     0,     0,     0,     0,\n",
       "            0,     0,     0,     0,     0,     0,     0,     0,     0,\n",
       "            0,     0,     0,     0,     0,     0,     0,     0,     0,\n",
       "           10,    19,  3654,   140,     9,   422,    22,   271,    59,\n",
       "         4365,    21,    31,    83,  3301,    21,     0,   171,     3,\n",
       "            0,   951,   506,    10,  5005,  5360,     4,   573,     3,\n",
       "         1153,    53,    52,  5359,     0,   260,    16,    40,   951,\n",
       "          124,    58,     0,   710,   136,   378,   625,    14,   110,\n",
       "         1509],\n",
       "       [    0,     0,     0,     0,     0,     0,     0,     0,     0,\n",
       "            0,     0,     0,     0,     0,     0,     0,     0,     0,\n",
       "            0,     0,     0,     0,     0,     0,     0,     0,     0,\n",
       "            0,     0,     0,     0,     0,     0,     0,     0,     0,\n",
       "            0,     0,     0,     0,     0,     0,     0,     0,     0,\n",
       "            0,     0,     0,     0,     0,     0,     0,     0,     0,\n",
       "            0,     0,     0,     0,     0,     0,     0,     0,     0,\n",
       "            0,     0,     0,     0,     0,     0,     0,     0,     0,\n",
       "            0,     0,     0,     0,    10,     5,   692,     0,    89,\n",
       "         2155,    19, 11731,     0,  2831,  5193,   248,    91,  3007,\n",
       "            7,   125,    23,   200,     2,   801,   633,     3, 22731,\n",
       "         1000],\n",
       "       [    0,     0,     0,     0,     0,     0,     0,     0,     0,\n",
       "            0,     0,     0,     0,     0,     0,     0,     0,     0,\n",
       "            0,     0,     0,     0,     0,     0,     0,     0,     0,\n",
       "            0,     0,     0,     0,     0,     0,     0,     0,     0,\n",
       "            0,     0,     0,     0,     0,     0,     0,     0,     0,\n",
       "            0,     0,   785,   294,     9,   121,    10,     5,   417,\n",
       "            4,    28,    34,   481,    19,    18,  1285,    32,   141,\n",
       "           27,  2660,    44,  1841,    31,     0,  2781,    36,    77,\n",
       "           96,  2443,    66,  3962,    44,     1,    23,   104,   255,\n",
       "            0,   133,  1573,     1, 12615,   451,    13,   318,    10,\n",
       "           62,     5,    97,  1322,     4,   104,     0,  3781,     3,\n",
       "            2],\n",
       "       [    0,     0,     0,     0,     0,     0,     0,     0,     0,\n",
       "            0,     0,     0,     0,     0,     0,     0,     0,     0,\n",
       "            0,     0,     0,     0,     0,     0,     0,     0,     0,\n",
       "            0,     0,     0,     0,     0,     0,     0,     0,     0,\n",
       "            0,     0,     0,     0,     0,     0,     0,     0,     0,\n",
       "            0,     0,     0,     0,     0,     0,     0,     0,     0,\n",
       "            0,     0,     0,     0,     0,     0,     0,     0,     0,\n",
       "            0,     0,     0,     0,     0,     0,     0,     0,     0,\n",
       "            0,     0,     0,     0,     0,     0,     0,    10,     5,\n",
       "           23,     0,   778,  3706,  2831,    19,     7,    13,    73,\n",
       "          324,  2740,    72,    89,     3,    26,    98,     1,   164,\n",
       "           67],\n",
       "       [   53,     9,    13,   115,    59,   797,   551,    70,   363,\n",
       "            4,     0,   729,     4,    65,  8169,     7,    13,    29,\n",
       "            3,   108,    98,     9,   292,    16,    59,   797,    18,\n",
       "           10,    13,     0,    63,    29,    68,  2501,    44,     3,\n",
       "          233,    92,     9,    67,   113,   107,  8169,   362,    42,\n",
       "         1008,     1,     9,    96,    27,  1431,    44,     0,   356,\n",
       "            3,    59,   109,   204,     7,    47,     2,  1929, 11008,\n",
       "            1,  2130,   353,   411,     3,    12,  6607,     1,  2979,\n",
       "         5177,  2125,  1366,     5,    29,     3,    59,   501,   874,\n",
       "           18,  8169,     5,    33,   226,     0,   246,   411,     3,\n",
       "          581,     3,    26,   598,     8,     0, 13961,   394,     3,\n",
       "        14187]])"
      ]
     },
     "execution_count": 12,
     "metadata": {},
     "output_type": "execute_result"
    }
   ],
   "source": [
    "seq_len = 200\n",
    "\n",
    "\n",
    "#print(np.pad([1,3], (10, 0), 'constant'))\n",
    "\n",
    "features = np.zeros((len(reviews_ints), seq_len), dtype=int)\n",
    "for idx, review in enumerate(reviews_ints):\n",
    "    features[idx, -len(review):] = np.array(review)[:seq_len]\n",
    "\n",
    "features[:10,:100]"
   ]
  },
  {
   "cell_type": "markdown",
   "metadata": {},
   "source": [
    "If you build features correctly, it should look like that cell output below."
   ]
  },
  {
   "cell_type": "code",
   "execution_count": 13,
   "metadata": {},
   "outputs": [
    {
     "name": "stdout",
     "output_type": "stream",
     "text": [
      "(25000, 200)\n",
      "[11, 108, 1449, 3, 59, 542, 101, 11, 21569, 307, 5, 226, 4176, 47, 2, 2218, 11, 7, 214, 22]\n",
      "hi ['that', 'many', 'adults', 'of', 'my', 'age', 'think', 'that', 'bromwell', 'high', 'is', 'far', 'fetched', 'what', 'a', 'pity', 'that', 'it', 'isn', 't']\n",
      "again? 805 140\n",
      "0 140 [    0     0     0     0     0     0     0     0     0     0     0     0\n",
      "     0     0     0     0     0     0     0     0     0     0     0     0\n",
      "     0     0     0     0     0     0     0     0     0     0     0     0\n",
      "     0     0     0     0     0     0     0     0     0     0     0     0\n",
      "     0     0     0     0     0     0     0     0     0     0     0     0\n",
      " 21569   307     5     2  1050   206     7  2139    31     0   170    56\n",
      "    14    48    80  5838    43   381   109   139    14  5197    59   153\n",
      "     8     0  4977  5894   474    70     4   259    11 21569   307    12\n",
      "  1978     5    73  2401     4   613    72     5  5197     0 25625     4\n",
      "  1988 10172     0  5833  1499    35    50    65   203   144    66  1198\n",
      "  5197 19959     0 46214     3     0   220   882    30  2998    70     3\n",
      "     0  5813     9   685     1    66  1499    53     9   215     0   382\n",
      "     8    61     2  1405  3696   782     4  3493   179     0   381     9\n",
      "  1211 13626    31   307     2   348   340  2922     9   142   126     4\n",
      "  7728    29     3   128  5197  1405  2330     4 21569   307     9   527\n",
      "    11   108  1449     3    59   542   101    11 21569   307     5   226\n",
      "  4176    47     2  2218    11     7   214    22]\n"
     ]
    }
   ],
   "source": [
    "#features[:10,:100]\n",
    "#del i\n",
    "print(features.shape)\n",
    "print(reviews_ints[0][120:2000])\n",
    "print('hi', reviews[0].split()[120:2000])\n",
    "print('again?', len(reviews[0]), len(reviews[0].split()))\n",
    "\n",
    "for idx, review in enumerate(reviews_ints):\n",
    "    if len(review) < seq_len:\n",
    "        print(idx, len(review), features[idx])\n",
    "        break"
   ]
  },
  {
   "cell_type": "markdown",
   "metadata": {},
   "source": [
    "## Training, Validation, Test\n",
    "\n"
   ]
  },
  {
   "cell_type": "markdown",
   "metadata": {},
   "source": [
    "With our data in nice shape, we'll split it into training, validation, and test sets.\n",
    "\n",
    "> **Exercise:** Create the training, validation, and test sets here. You'll need to create sets for the features and the labels, `train_x` and `train_y` for example. Define a split fraction, `split_frac` as the fraction of data to keep in the training set. Usually this is set to 0.8 or 0.9. The rest of the data will be split in half to create the validation and testing data."
   ]
  },
  {
   "cell_type": "code",
   "execution_count": 14,
   "metadata": {},
   "outputs": [
    {
     "name": "stdout",
     "output_type": "stream",
     "text": [
      "another great movie by costa  gavras  it  s a great presentation of the situation is latin america and the us involvement in latin american politics  the facts might or might not be accurate but it is a fact that the us was deeply involved in coups and support of latin american dictatorships   br    br   despite this though the spirit of the movie follows the typical leftist  communist propaganda of the cold war era  costa  gavras is a well  known communist sympathizer and his movies are always biased  for example he presents the us actions as brutal and inhumane  while representing tupamaros  extremist activities as something positive   br    br   as it turned out it was a blessing for uruguay and the rest of the latin america that the us got involved  europe is filled with poor east european prostitutes  i never heard of poor uruguayan or chilean girls prostituting themselves en masse as it happens in most east european countries  the us was fighting a dirty war and god bless us all the monster of soviet communism was defeated  it is unfortunate the us had to do what it did in latin america  and elsewhere  but sometimes you need to play dirty  this is not an idealistic world as costa  gavras and matamoros like to believe  had matamoros come to power in uruguay  we would  ve had another ukraine in latin america   br    br   all in all this movie follows corrupt and bankrupt leftist ideology of times past and tries to pass it as idealistic and morally correct   \n",
      "[158, 84, 17, 33, 15378, 26961, 7, 12, 2, 84, 2951, 3, 0, 882, 5, 4484, 826, 1, 0, 177, 3842, 8, 4484, 293, 2381, 0, 2262, 232, 41, 232, 23, 28, 1837, 18, 7, 5, 2, 189, 11, 0, 177, 13, 1658, 561, 8, 18146, 1, 1399, 3, 4484, 293, 24595, 6, 6, 458, 10, 149, 0, 1051, 3, 0, 17, 1137, 0, 778, 15388, 4170, 2430, 3, 0, 1018, 319, 964, 15378, 26961, 5, 2, 71, 559, 4170, 20977, 1, 26, 98, 25, 207, 5343, 15, 456, 24, 2391, 0, 177, 1697, 14, 1736, 1, 20514, 135, 8452, 69205, 19301, 4943, 14, 140, 1096, 6, 6, 14, 7, 666, 44, 7, 13, 2, 9700, 15, 34385, 1, 0, 356, 3, 0, 4484, 826, 11, 0, 177, 187, 561, 2308, 5, 1040, 16, 334, 2814, 1842, 7990, 9, 113, 546, 3, 334, 52962, 41, 15360, 512, 41814, 524, 4735, 20687, 14, 7, 558, 8, 89, 2814, 1842, 3086, 0, 177, 13, 975, 2, 1597, 319, 1, 514, 8216, 177, 30, 0, 903, 3, 3709, 8400, 13, 5696, 7, 5, 2375, 0, 177, 67, 4, 79, 47, 7, 119, 8, 4484, 826, 1, 3274, 18, 507, 20, 354, 4, 291, 1597, 10, 5, 23, 34, 7962, 175, 14, 15378, 26961, 1, 43953, 38, 4, 259, 67, 43953, 212, 4, 649, 8, 34385, 68, 60, 138, 67, 158, 70526, 8, 4484, 826, 6, 6, 30, 8, 30, 10, 17, 1137, 3380, 1, 13807, 15388, 9510, 3, 208, 490, 1, 488, 4, 1312, 7, 14, 7962, 1, 5585, 2264]\n",
      "257 257\n"
     ]
    }
   ],
   "source": [
    "# also shuffle to be safe\n",
    "\n",
    "pre_shuffled_reviews = reviews[:]\n",
    "pre_shuffled_reviews_ints = reviews_ints[:]\n",
    "pre_shuffled_labels = labels[:]\n",
    "\n",
    "shuffle_idx = [i for i in range(len(reviews_ints))]\n",
    "\n",
    "shuffle(shuffle_idx)\n",
    "\n",
    "labels = []\n",
    "reviews = []\n",
    "reviews_ints = []\n",
    "\n",
    "for idx in shuffle_idx:\n",
    "    labels.append(pre_shuffled_labels[idx])\n",
    "    reviews.append(pre_shuffled_reviews[idx])\n",
    "    reviews_ints.append(pre_shuffled_reviews_ints[idx])\n",
    "\n",
    "labels = np.array(labels)\n",
    "reviews = np.array(reviews)\n",
    "reviews_ints = np.array(reviews_ints)\n",
    "\n",
    "print(reviews[0])\n",
    "print(reviews_ints[0])\n",
    "\n",
    "print(len(reviews[0].split()), len(reviews_ints[0]))\n"
   ]
  },
  {
   "cell_type": "code",
   "execution_count": 15,
   "metadata": {},
   "outputs": [
    {
     "name": "stdout",
     "output_type": "stream",
     "text": [
      "\t\t\tFeature Shapes:\n",
      "Train set: \t\t(20000, 200) \n",
      "Validation set: \t(2500, 200) \n",
      "Test set: \t\t(2500, 200)\n"
     ]
    }
   ],
   "source": [
    "split_frac = 0.8\n",
    "#test_frac = (1. - split_frac) / 2\n",
    "\n",
    "train_idx = int(len(reviews_ints) * split_frac)\n",
    "\n",
    "train_x, val_x = features[:train_idx], features[train_idx:]\n",
    "train_y, val_y = labels[:train_idx], labels[train_idx:]\n",
    "\n",
    "test_idx = int(len(val_x) * .5)\n",
    "val_x, test_x = val_x[:test_idx], val_x[test_idx:]\n",
    "val_y, test_y = val_y[:test_idx], val_y[test_idx:]\n",
    "\n",
    "print(\"\\t\\t\\tFeature Shapes:\")\n",
    "print(\"Train set: \\t\\t{}\".format(train_x.shape), \n",
    "      \"\\nValidation set: \\t{}\".format(val_x.shape),\n",
    "      \"\\nTest set: \\t\\t{}\".format(test_x.shape))\n"
   ]
  },
  {
   "cell_type": "markdown",
   "metadata": {},
   "source": [
    "With train, validation, and text fractions of 0.8, 0.1, 0.1, the final shapes should look like:\n",
    "```\n",
    "                    Feature Shapes:\n",
    "Train set: \t\t (20000, 200) \n",
    "Validation set: \t(2500, 200) \n",
    "Test set: \t\t  (2500, 200)\n",
    "```"
   ]
  },
  {
   "cell_type": "markdown",
   "metadata": {},
   "source": [
    "## Build the graph\n",
    "\n",
    "Here, we'll build the graph. First up, defining the hyperparameters.\n",
    "\n",
    "* `lstm_size`: Number of units in the hidden layers in the LSTM cells. Usually larger is better performance wise. Common values are 128, 256, 512, etc.\n",
    "* `lstm_layers`: Number of LSTM layers in the network. I'd start with 1, then add more if I'm underfitting.\n",
    "* `batch_size`: The number of reviews to feed the network in one training pass. Typically this should be set as high as you can go without running out of memory.\n",
    "* `learning_rate`: Learning rate"
   ]
  },
  {
   "cell_type": "code",
   "execution_count": 16,
   "metadata": {
    "collapsed": true
   },
   "outputs": [],
   "source": [
    "lstm_size = 256\n",
    "lstm_layers = 2\n",
    "batch_size = 500\n",
    "learning_rate = 0.001"
   ]
  },
  {
   "cell_type": "markdown",
   "metadata": {},
   "source": [
    "For the network itself, we'll be passing in our 200 element long review vectors. Each batch will be `batch_size` vectors. We'll also be using dropout on the LSTM layer, so we'll make a placeholder for the keep probability."
   ]
  },
  {
   "cell_type": "markdown",
   "metadata": {},
   "source": [
    "> **Exercise:** Create the `inputs_`, `labels_`, and drop out `keep_prob` placeholders using `tf.placeholder`. `labels_` needs to be two-dimensional to work with some functions later.  Since `keep_prob` is a scalar (a 0-dimensional tensor), you shouldn't provide a size to `tf.placeholder`."
   ]
  },
  {
   "cell_type": "code",
   "execution_count": 17,
   "metadata": {
    "collapsed": true
   },
   "outputs": [],
   "source": [
    "n_words = len(vocab_to_int) + 1 # Adding 1 because we use 0's for padding, dictionary started at 1\n",
    "\n",
    "# Create the graph object\n",
    "graph = tf.Graph()\n",
    "# Add nodes to the graph\n",
    "with graph.as_default():\n",
    "    inputs_ = tf.placeholder(tf.int32, [None, None], name='inputs_')\n",
    "    labels_ = tf.placeholder(tf.int32, [None, None], name='labels_')\n",
    "    keep_prob = tf.placeholder(tf.float32, name='keep_prob')\n"
   ]
  },
  {
   "cell_type": "markdown",
   "metadata": {},
   "source": [
    "### Embedding\n",
    "\n",
    "Now we'll add an embedding layer. We need to do this because there are 74000 words in our vocabulary. It is massively inefficient to one-hot encode our classes here. You should remember dealing with this problem from the word2vec lesson. Instead of one-hot encoding, we can have an embedding layer and use that layer as a lookup table. You could train an embedding layer using word2vec, then load it here. But, it's fine to just make a new layer and let the network learn the weights.\n",
    "\n",
    "> **Exercise:** Create the embedding lookup matrix as a `tf.Variable`. Use that embedding matrix to get the embedded vectors to pass to the LSTM cell with [`tf.nn.embedding_lookup`](https://www.tensorflow.org/api_docs/python/tf/nn/embedding_lookup). This function takes the embedding matrix and an input tensor, such as the review vectors. Then, it'll return another tensor with the embedded vectors. So, if the embedding layer has 200 units, the function will return a tensor with size [batch_size, 200].\n",
    "\n"
   ]
  },
  {
   "cell_type": "code",
   "execution_count": 18,
   "metadata": {
    "collapsed": true
   },
   "outputs": [],
   "source": [
    "# Size of the embedding vectors (number of units in the embedding layer)\n",
    "\n",
    "embed_size = 300 \n",
    "\n",
    "with graph.as_default():\n",
    "    embedding = tf.Variable(tf.random_uniform([n_words, embed_size], -1., 1.))\n",
    "    embed = tf.nn.embedding_lookup(embedding, inputs_, name='embed')\n"
   ]
  },
  {
   "cell_type": "markdown",
   "metadata": {},
   "source": [
    "### LSTM cell\n",
    "\n",
    "<img src=\"assets/network_diagram.png\" width=400px>\n",
    "\n",
    "Next, we'll create our LSTM cells to use in the recurrent network ([TensorFlow documentation](https://www.tensorflow.org/api_docs/python/tf/contrib/rnn)). Here we are just defining what the cells look like. This isn't actually building the graph, just defining the type of cells we want in our graph.\n",
    "\n",
    "To create a basic LSTM cell for the graph, you'll want to use `tf.contrib.rnn.BasicLSTMCell`. Looking at the function documentation:\n",
    "\n",
    "```\n",
    "tf.contrib.rnn.BasicLSTMCell(num_units, forget_bias=1.0, input_size=None, state_is_tuple=True, activation=<function tanh at 0x109f1ef28>)\n",
    "```\n",
    "\n",
    "you can see it takes a parameter called `num_units`, the number of units in the cell, called `lstm_size` in this code. So then, you can write something like \n",
    "\n",
    "```\n",
    "lstm = tf.contrib.rnn.BasicLSTMCell(num_units)\n",
    "```\n",
    "\n",
    "to create an LSTM cell with `num_units`. Next, you can add dropout to the cell with `tf.contrib.rnn.DropoutWrapper`. This just wraps the cell in another cell, but with dropout added to the inputs and/or outputs. It's a really convenient way to make your network better with almost no effort! So you'd do something like\n",
    "\n",
    "```\n",
    "drop = tf.contrib.rnn.DropoutWrapper(cell, output_keep_prob=keep_prob)\n",
    "```\n",
    "\n",
    "Most of the time, your network will have better performance with more layers. That's sort of the magic of deep learning, adding more layers allows the network to learn really complex relationships. Again, there is a simple way to create multiple layers of LSTM cells with `tf.contrib.rnn.MultiRNNCell`:\n",
    "\n",
    "```\n",
    "cell = tf.contrib.rnn.MultiRNNCell([drop] * lstm_layers)\n",
    "```\n",
    "\n",
    "Here, `[drop] * lstm_layers` creates a list of cells (`drop`) that is `lstm_layers` long. The `MultiRNNCell` wrapper builds this into multiple layers of RNN cells, one for each cell in the list.\n",
    "\n",
    "So the final cell you're using in the network is actually multiple (or just one) LSTM cells with dropout. But it all works the same from an architectural viewpoint, just a more complicated graph in the cell.\n",
    "\n",
    "> **Exercise:** Below, use `tf.contrib.rnn.BasicLSTMCell` to create an LSTM cell. Then, add drop out to it with `tf.contrib.rnn.DropoutWrapper`. Finally, create multiple LSTM layers with `tf.contrib.rnn.MultiRNNCell`.\n",
    "\n",
    "Here is [a tutorial on building RNNs](https://www.tensorflow.org/tutorials/recurrent) that will help you out.\n"
   ]
  },
  {
   "cell_type": "code",
   "execution_count": 26,
   "metadata": {
    "collapsed": true
   },
   "outputs": [],
   "source": [
    "def lstm_cell():\n",
    "    #lstm = tf.contrib.rnn.GRUCell(lstm_size)\n",
    "    lstm = tf.contrib.rnn.LSTMCell(lstm_size, use_peepholes = True)\n",
    "\n",
    "    # Add dropout to the cell\n",
    "    drop = tf.contrib.rnn.DropoutWrapper(lstm, output_keep_prob=keep_prob)\n",
    "    \n",
    "    return drop\n",
    "\n",
    "with graph.as_default():\n",
    "\n",
    "    # Stack up multiple LSTM layers, for deep learning\n",
    "    #cell = tf.contrib.rnn.MultiRNNCell([lstm_cell()] * lstm_layers)\n",
    "    cell = tf.contrib.rnn.MultiRNNCell(\n",
    "        [lstm_cell() for _ in range(lstm_layers)])\n",
    "    \n",
    "    # Getting an initial state of all zeros\n",
    "    # initial_state = cell.zero_state(batch_size, tf.float32)\n",
    "    initial_state = state = cell.zero_state(batch_size, tf.float32)\n"
   ]
  },
  {
   "cell_type": "markdown",
   "metadata": {},
   "source": [
    "### RNN forward pass\n",
    "\n",
    "<img src=\"assets/network_diagram.png\" width=400px>\n",
    "\n",
    "Now we need to actually run the data through the RNN nodes. You can use [`tf.nn.dynamic_rnn`](https://www.tensorflow.org/api_docs/python/tf/nn/dynamic_rnn) to do this. You'd pass in the RNN cell you created (our multiple layered LSTM `cell` for instance), and the inputs to the network.\n",
    "\n",
    "```\n",
    "outputs, final_state = tf.nn.dynamic_rnn(cell, inputs, initial_state=initial_state)\n",
    "```\n",
    "\n",
    "Above I created an initial state, `initial_state`, to pass to the RNN. This is the cell state that is passed between the hidden layers in successive time steps. `tf.nn.dynamic_rnn` takes care of most of the work for us. We pass in our cell and the input to the cell, then it does the unrolling and everything else for us. It returns outputs for each time step and the final_state of the hidden layer.\n",
    "\n",
    "> **Exercise:** Use `tf.nn.dynamic_rnn` to add the forward pass through the RNN. Remember that we're actually passing in vectors from the embedding layer, `embed`.\n",
    "\n"
   ]
  },
  {
   "cell_type": "code",
   "execution_count": 27,
   "metadata": {
    "collapsed": true
   },
   "outputs": [],
   "source": [
    "with graph.as_default():\n",
    "    outputs, final_state = tf.nn.dynamic_rnn(cell, embed, initial_state=initial_state)"
   ]
  },
  {
   "cell_type": "markdown",
   "metadata": {},
   "source": [
    "### Output\n",
    "\n",
    "We only care about the final output, we'll be using that as our sentiment prediction. So we need to grab the last output with `outputs[:, -1]`, the calculate the cost from that and `labels_`."
   ]
  },
  {
   "cell_type": "code",
   "execution_count": 28,
   "metadata": {
    "collapsed": true
   },
   "outputs": [],
   "source": [
    "with graph.as_default():\n",
    "    predictions = tf.contrib.layers.fully_connected(outputs[:, -1], 1, activation_fn=tf.sigmoid)\n",
    "    cost = tf.losses.mean_squared_error(labels_, predictions)\n",
    "    \n",
    "    optimizer = tf.train.AdamOptimizer(learning_rate).minimize(cost)"
   ]
  },
  {
   "cell_type": "markdown",
   "metadata": {},
   "source": [
    "### Validation accuracy\n",
    "\n",
    "Here we can add a few nodes to calculate the accuracy which we'll use in the validation pass."
   ]
  },
  {
   "cell_type": "code",
   "execution_count": 29,
   "metadata": {
    "collapsed": true
   },
   "outputs": [],
   "source": [
    "with graph.as_default():\n",
    "    correct_pred = tf.equal(tf.cast(tf.round(predictions), tf.int32), labels_)\n",
    "    accuracy = tf.reduce_mean(tf.cast(correct_pred, tf.float32))"
   ]
  },
  {
   "cell_type": "markdown",
   "metadata": {},
   "source": [
    "### Batching\n",
    "\n",
    "This is a simple function for returning batches from our data. First it removes data such that we only have full batches. Then it iterates through the `x` and `y` arrays and returns slices out of those arrays with size `[batch_size]`."
   ]
  },
  {
   "cell_type": "code",
   "execution_count": 30,
   "metadata": {
    "collapsed": true
   },
   "outputs": [],
   "source": [
    "def get_batches(x, y, batch_size=100):\n",
    "    \n",
    "    n_batches = len(x)//batch_size\n",
    "    x, y = x[:n_batches*batch_size], y[:n_batches*batch_size]\n",
    "    for ii in range(0, len(x), batch_size):\n",
    "        yield x[ii:ii+batch_size], y[ii:ii+batch_size]"
   ]
  },
  {
   "cell_type": "markdown",
   "metadata": {},
   "source": [
    "## Training\n",
    "\n",
    "Below is the typical training code. If you want to do this yourself, feel free to delete all this code and implement it yourself. Before you run this, make sure the `checkpoints` directory exists."
   ]
  },
  {
   "cell_type": "code",
   "execution_count": null,
   "metadata": {},
   "outputs": [
    {
     "name": "stdout",
     "output_type": "stream",
     "text": [
      "Epoch: 0/10 Iteration: 5 Train loss: 0.255\n",
      "Epoch: 0/10 Iteration: 10 Train loss: 0.248\n",
      "Epoch: 0/10 Iteration: 15 Train loss: 0.250\n",
      "Epoch: 0/10 Iteration: 20 Train loss: 0.253\n",
      "Epoch: 0/10 Iteration: 25 Train loss: 0.250\n",
      "Val acc: 0.506\n",
      "Epoch: 0/10 Iteration: 30 Train loss: 0.252\n",
      "Epoch: 0/10 Iteration: 35 Train loss: 0.250\n",
      "Epoch: 0/10 Iteration: 40 Train loss: 0.250\n",
      "Epoch: 1/10 Iteration: 45 Train loss: 0.248\n",
      "Epoch: 1/10 Iteration: 50 Train loss: 0.246\n",
      "Val acc: 0.498\n",
      "Epoch: 1/10 Iteration: 55 Train loss: 0.244\n",
      "Epoch: 1/10 Iteration: 60 Train loss: 0.252\n",
      "Epoch: 1/10 Iteration: 65 Train loss: 0.244\n",
      "Epoch: 1/10 Iteration: 70 Train loss: 0.253\n",
      "Epoch: 1/10 Iteration: 75 Train loss: 0.254\n",
      "Val acc: 0.497\n",
      "Epoch: 1/10 Iteration: 80 Train loss: 0.249\n",
      "Epoch: 2/10 Iteration: 85 Train loss: 0.249\n",
      "Epoch: 2/10 Iteration: 90 Train loss: 0.239\n"
     ]
    }
   ],
   "source": [
    "%%time \n",
    "epochs = 10\n",
    "\n",
    "with graph.as_default():\n",
    "    saver = tf.train.Saver()\n",
    "\n",
    "with tf.Session(graph=graph) as sess:\n",
    "    sess.run(tf.global_variables_initializer())\n",
    "    iteration = 1\n",
    "    for e in range(epochs):\n",
    "        state = sess.run(initial_state)\n",
    "        \n",
    "        for ii, (x, y) in enumerate(get_batches(train_x, train_y, batch_size), 1):\n",
    "            feed = {inputs_: x,\n",
    "                    labels_: y[:, None],\n",
    "                    keep_prob: 0.5,\n",
    "                    initial_state: state}\n",
    "            loss, state, _ = sess.run([cost, final_state, optimizer], feed_dict=feed)\n",
    "            \n",
    "            if iteration%5==0:\n",
    "                print(\"Epoch: {}/{}\".format(e, epochs),\n",
    "                      \"Iteration: {}\".format(iteration),\n",
    "                      \"Train loss: {:.3f}\".format(loss))\n",
    "\n",
    "            if iteration%25==0:\n",
    "                val_acc = []\n",
    "                val_state = sess.run(cell.zero_state(batch_size, tf.float32))\n",
    "                for x, y in get_batches(val_x, val_y, batch_size):\n",
    "                    feed = {inputs_: x,\n",
    "                            labels_: y[:, None],\n",
    "                            keep_prob: 1,\n",
    "                            initial_state: val_state}\n",
    "                    batch_acc, val_state = sess.run([accuracy, final_state], feed_dict=feed)\n",
    "                    val_acc.append(batch_acc)\n",
    "                print(\"Val acc: {:.3f}\".format(np.mean(val_acc)))\n",
    "            iteration +=1\n",
    "    saver.save(sess, \"checkpoints/sentiment.ckpt\")"
   ]
  },
  {
   "cell_type": "markdown",
   "metadata": {},
   "source": [
    "## Testing"
   ]
  },
  {
   "cell_type": "code",
   "execution_count": 32,
   "metadata": {},
   "outputs": [
    {
     "name": "stdout",
     "output_type": "stream",
     "text": [
      "INFO:tensorflow:Restoring parameters from checkpoints/sentiment.ckpt\n",
      "Test accuracy: 0.486\n"
     ]
    }
   ],
   "source": [
    "test_acc = []\n",
    "with tf.Session(graph=graph) as sess:\n",
    "    saver.restore(sess, tf.train.latest_checkpoint('checkpoints'))\n",
    "    test_state = sess.run(cell.zero_state(batch_size, tf.float32))\n",
    "    for ii, (x, y) in enumerate(get_batches(test_x, test_y, batch_size), 1):\n",
    "        feed = {inputs_: x,\n",
    "                labels_: y[:, None],\n",
    "                keep_prob: 1,\n",
    "                initial_state: test_state}\n",
    "        batch_acc, test_state = sess.run([accuracy, final_state], feed_dict=feed)\n",
    "        test_acc.append(batch_acc)\n",
    "    print(\"Test accuracy: {:.3f}\".format(np.mean(test_acc)))"
   ]
  }
 ],
 "metadata": {
  "kernelspec": {
   "display_name": "Python 3",
   "language": "python",
   "name": "python3"
  },
  "language_info": {
   "codemirror_mode": {
    "name": "ipython",
    "version": 3
   },
   "file_extension": ".py",
   "mimetype": "text/x-python",
   "name": "python",
   "nbconvert_exporter": "python",
   "pygments_lexer": "ipython3",
   "version": "3.5.4"
  }
 },
 "nbformat": 4,
 "nbformat_minor": 2
}

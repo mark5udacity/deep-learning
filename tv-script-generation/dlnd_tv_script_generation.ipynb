{
 "cells": [
  {
   "cell_type": "markdown",
   "metadata": {},
   "source": [
    "# TV Script Generation\n",
    "In this project, you'll generate your own [Simpsons](https://en.wikipedia.org/wiki/The_Simpsons) TV scripts using RNNs.  You'll be using part of the [Simpsons dataset](https://www.kaggle.com/wcukierski/the-simpsons-by-the-data) of scripts from 27 seasons.  The Neural Network you'll build will generate a new TV script for a scene at [Moe's Tavern](https://simpsonswiki.com/wiki/Moe's_Tavern).\n",
    "## Get the Data\n",
    "The data is already provided for you.  You'll be using a subset of the original dataset.  It consists of only the scenes in Moe's Tavern.  This doesn't include other versions of the tavern, like \"Moe's Cavern\", \"Flaming Moe's\", \"Uncle Moe's Family Feed-Bag\", etc.."
   ]
  },
  {
   "cell_type": "code",
   "execution_count": 1,
   "metadata": {},
   "outputs": [],
   "source": [
    "from distutils.version import LooseVersion\n",
    "from tensorflow.contrib import seq2seq\n",
    "\n",
    "import helper\n",
    "import numpy as np\n",
    "import problem_unittests as tests\n",
    "import tensorflow as tf\n",
    "import warnings\n"
   ]
  },
  {
   "cell_type": "code",
   "execution_count": null,
   "metadata": {},
   "outputs": [],
   "source": [
    "\"\"\"\n",
    "DON'T MODIFY ANYTHING IN THIS CELL\n",
    "\"\"\"\n",
    "\n",
    "\n",
    "data_dir = './data/simpsons/moes_tavern_lines.txt'\n",
    "text = helper.load_data(data_dir)\n",
    "# Ignore notice, since we don't use it for analysing the data\n",
    "text = text[81:]"
   ]
  },
  {
   "cell_type": "markdown",
   "metadata": {},
   "source": [
    "## Explore the Data\n",
    "Play around with `view_sentence_range` to view different parts of the data."
   ]
  },
  {
   "cell_type": "code",
   "execution_count": null,
   "metadata": {},
   "outputs": [],
   "source": [
    "view_sentence_range = (110, 130)\n",
    "\n",
    "\"\"\"\n",
    "DON'T MODIFY ANYTHING IN THIS CELL\n",
    "\"\"\"\n",
    "\n",
    "print('Dataset Stats')\n",
    "print('Roughly the number of unique words: {}'.format(len({word: None for word in text.split()})))\n",
    "scenes = text.split('\\n\\n')\n",
    "print('Number of scenes: {}'.format(len(scenes)))\n",
    "sentence_count_scene = [scene.count('\\n') for scene in scenes]\n",
    "print('Average number of sentences in each scene: {}'.format(np.average(sentence_count_scene)))\n",
    "\n",
    "sentences = [sentence for scene in scenes for sentence in scene.split('\\n')]\n",
    "print('Number of lines: {}'.format(len(sentences)))\n",
    "word_count_sentence = [len(sentence.split()) for sentence in sentences]\n",
    "print('Average number of words in each line: {}'.format(np.average(word_count_sentence)))\n",
    "\n",
    "print()\n",
    "print('The sentences {} to {}:'.format(*view_sentence_range))\n",
    "print('\\n'.join(text.split('\\n')[view_sentence_range[0]:view_sentence_range[1]]))"
   ]
  },
  {
   "cell_type": "markdown",
   "metadata": {},
   "source": [
    "## Implement Preprocessing Functions\n",
    "The first thing to do to any dataset is preprocessing.  Implement the following preprocessing functions below:\n",
    "- Lookup Table\n",
    "- Tokenize Punctuation\n",
    "\n",
    "### Lookup Table\n",
    "To create a word embedding, you first need to transform the words to ids.  In this function, create two dictionaries:\n",
    "- Dictionary to go from the words to an id, we'll call `vocab_to_int`\n",
    "- Dictionary to go from the id to word, we'll call `int_to_vocab`\n",
    "\n",
    "Return these dictionaries in the following tuple `(vocab_to_int, int_to_vocab)`"
   ]
  },
  {
   "cell_type": "code",
   "execution_count": null,
   "metadata": {},
   "outputs": [],
   "source": [
    "\n",
    "def create_lookup_tables(text):\n",
    "    \"\"\"\n",
    "    Create lookup tables for vocabulary\n",
    "    :param text: The text of tv scripts split into words\n",
    "    :return: A tuple of dicts (vocab_to_int, int_to_vocab)\n",
    "    \"\"\"\n",
    "    vocab_to_int = {}\n",
    "    int_to_vocab = {}\n",
    "    for idx, word in enumerate(set(text)):\n",
    "        vocab_to_int[word] = idx\n",
    "        int_to_vocab[idx] = word\n",
    "    return vocab_to_int, int_to_vocab\n",
    "\n",
    "\n",
    "\"\"\"\n",
    "DON'T MODIFY ANYTHING IN THIS CELL THAT IS BELOW THIS LINE\n",
    "\"\"\"\n",
    "tests.test_create_lookup_tables(create_lookup_tables)"
   ]
  },
  {
   "cell_type": "markdown",
   "metadata": {},
   "source": [
    "### Tokenize Punctuation\n",
    "We'll be splitting the script into a word array using spaces as delimiters.  However, punctuations like periods and exclamation marks make it hard for the neural network to distinguish between the word \"bye\" and \"bye!\".\n",
    "\n",
    "Implement the function `token_lookup` to return a dict that will be used to tokenize symbols like \"!\" into \"||Exclamation_Mark||\".  Create a dictionary for the following symbols where the symbol is the key and value is the token:\n",
    "- Period ( . )\n",
    "- Comma ( , )\n",
    "- Quotation Mark ( \" )\n",
    "- Semicolon ( ; )\n",
    "- Exclamation mark ( ! )\n",
    "- Question mark ( ? )\n",
    "- Left Parentheses ( ( )\n",
    "- Right Parentheses ( ) )\n",
    "- Dash ( -- )\n",
    "- Return ( \\n )\n",
    "\n",
    "This dictionary will be used to token the symbols and add the delimiter (space) around it.  This separates the symbols as it's own word, making it easier for the neural network to predict on the next word. Make sure you don't use a token that could be confused as a word. Instead of using the token \"dash\", try using something like \"||dash||\"."
   ]
  },
  {
   "cell_type": "code",
   "execution_count": null,
   "metadata": {},
   "outputs": [],
   "source": [
    "def token_lookup():\n",
    "    \"\"\"\n",
    "    Generate a dict to turn punctuation into a token.\n",
    "    :return: Tokenize dictionary where the key is the punctuation and the value is the token\n",
    "    \"\"\"\n",
    "    token_format = '||{}||'\n",
    "\n",
    "    tokens = {}\n",
    "    tokens['.'] = 'Period'\n",
    "    tokens[','] = 'Comma'\n",
    "    tokens['\"'] = 'Quotation_Mark'\n",
    "    tokens[';'] = 'Semicolon'\n",
    "    tokens['!'] = 'Exclamation_Mark'\n",
    "    tokens['?'] = 'Question_Mark'\n",
    "    tokens['('] = 'Left_Parentheses'\n",
    "    tokens[')'] = 'Right_Parentheses'\n",
    "    tokens['--'] = 'Dash'\n",
    "    tokens['\\n'] = 'Return'\n",
    "    \n",
    "    # Hmm... these belong here!?  But unit tests reject.\n",
    "    #tokens['...'] = 'Ellipses'\n",
    "    #tokens['/'] = 'Forward_Slash'\n",
    "\n",
    "    tokens = {punctuation: token_format.format(tokenized)\n",
    "                for punctuation, tokenized in tokens.items()}\n",
    "    return tokens\n",
    "\n",
    "\"\"\"\n",
    "DON'T MODIFY ANYTHING IN THIS CELL THAT IS BELOW THIS LINE\n",
    "\"\"\"\n",
    "tests.test_tokenize(token_lookup)"
   ]
  },
  {
   "cell_type": "markdown",
   "metadata": {},
   "source": [
    "## Preprocess all the data and save it\n",
    "Running the code cell below will preprocess all the data and save it to file."
   ]
  },
  {
   "cell_type": "code",
   "execution_count": null,
   "metadata": {},
   "outputs": [],
   "source": [
    "\"\"\"\n",
    "DON'T MODIFY ANYTHING IN THIS CELL\n",
    "\"\"\"\n",
    "# Preprocess Training, Validation, and Testing Data\n",
    "helper.preprocess_and_save_data(data_dir, token_lookup, create_lookup_tables)"
   ]
  },
  {
   "cell_type": "markdown",
   "metadata": {},
   "source": [
    "# Check Point\n",
    "This is your first checkpoint. If you ever decide to come back to this notebook or have to restart the notebook, you can start from here. The preprocessed data has been saved to disk."
   ]
  },
  {
   "cell_type": "code",
   "execution_count": 2,
   "metadata": {},
   "outputs": [],
   "source": [
    "\"\"\"\n",
    "DON'T MODIFY ANYTHING IN THIS CELL\n",
    "\"\"\"\n",
    "\n",
    "int_text, vocab_to_int, int_to_vocab, token_dict = helper.load_preprocess()"
   ]
  },
  {
   "cell_type": "code",
   "execution_count": 3,
   "metadata": {},
   "outputs": [
    {
     "name": "stdout",
     "output_type": "stream",
     "text": [
      "elite meet to drink ||period|| ||return|| bart_simpson: eh ||comma|| yeah ||comma|| hello ||comma|| is mike there ||question_mark|| last name ||comma|| rotch ||period|| ||return|| moe_szyslak: ||left_parentheses|| into phone ||right_parentheses|| hold on ||comma|| i'll check ||period|| ||left_parentheses|| to barflies ||right_parentheses|| mike rotch ||period|| mike rotch ||period|| hey ||comma|| has anybody seen mike rotch ||comma|| lately ||question_mark|| ||return|| moe_szyslak: ||left_parentheses|| into phone ||right_parentheses|| listen you little puke ||period|| one of these days i'm gonna catch you ||comma|| and i'm gonna carve my name on your back with an ice pick ||period|| ||return|| moe_szyslak: what's the matter homer ||question_mark|| you're not your normal effervescent self ||period|| ||return|| homer_simpson: i got my problems ||comma|| moe ||period|| give me another one ||period|| ||return|| moe_szyslak: homer ||comma|| hey ||comma|| you should not drink to forget your problems ||period|| ||return|| barney_gumble: yeah ||comma|| you should only drink to enhance your social skills ||period|| ||return|| ||return|| ||return|| moe_szyslak: ah ||comma|| isn't that nice ||period|| now ||comma|| there is a politician who cares ||period|| ||return|| barney_gumble: if i ever vote ||comma|| it'll be for him ||period|| ||left_parentheses|| belch ||right_parentheses|| ||return|| ||return|| ||return|| barney_gumble: hey homer ||comma|| how's your neighbor's store\n"
     ]
    }
   ],
   "source": [
    "test_s = []\n",
    "for t in int_text[10:200]:\n",
    "    test_s.append(int_to_vocab[t])\n",
    "    \n",
    "print(' '.join(test_s))"
   ]
  },
  {
   "cell_type": "markdown",
   "metadata": {},
   "source": [
    "## Build the Neural Network\n",
    "You'll build the components necessary to build a RNN by implementing the following functions below:\n",
    "- get_inputs\n",
    "- get_init_cell\n",
    "- get_embed\n",
    "- build_rnn\n",
    "- build_nn\n",
    "- get_batches\n",
    "\n",
    "### Check the Version of TensorFlow and Access to GPU"
   ]
  },
  {
   "cell_type": "code",
   "execution_count": 4,
   "metadata": {},
   "outputs": [
    {
     "name": "stdout",
     "output_type": "stream",
     "text": [
      "TensorFlow Version: 1.0.0\n",
      "Default GPU Device: /gpu:0\n"
     ]
    }
   ],
   "source": [
    "\"\"\"\n",
    "DON'T MODIFY ANYTHING IN THIS CELL\n",
    "\"\"\"\n",
    "\n",
    "# Check TensorFlow Version\n",
    "assert LooseVersion(tf.__version__) >= LooseVersion('1.0'), 'Please use TensorFlow version 1.0 or newer'\n",
    "print('TensorFlow Version: {}'.format(tf.__version__))\n",
    "\n",
    "# Check for a GPU\n",
    "if not tf.test.gpu_device_name():\n",
    "    warnings.warn('No GPU found. Please use a GPU to train your neural network.')\n",
    "else:\n",
    "    print('Default GPU Device: {}'.format(tf.test.gpu_device_name()))"
   ]
  },
  {
   "cell_type": "markdown",
   "metadata": {},
   "source": [
    "### Input\n",
    "Implement the `get_inputs()` function to create TF Placeholders for the Neural Network.  It should create the following placeholders:\n",
    "- Input text placeholder named \"input\" using the [TF Placeholder](https://www.tensorflow.org/api_docs/python/tf/placeholder) `name` parameter.\n",
    "- Targets placeholder\n",
    "- Learning Rate placeholder\n",
    "\n",
    "Return the placeholders in the following tuple `(Input, Targets, LearningRate)`"
   ]
  },
  {
   "cell_type": "code",
   "execution_count": 5,
   "metadata": {},
   "outputs": [
    {
     "name": "stdout",
     "output_type": "stream",
     "text": [
      "Tests Passed\n"
     ]
    }
   ],
   "source": [
    "def get_inputs():\n",
    "    \"\"\"\n",
    "    Create TF Placeholders for input, targets, and learning rate.\n",
    "    :return: Tuple (input, targets, learning rate)\n",
    "    \"\"\"\n",
    "    text_input = tf.placeholder(tf.int32, [None, None], 'input')\n",
    "    targets = tf.placeholder(tf.int32, [None, None], 'targets')\n",
    "    learning_rate = tf.placeholder(tf.float32, name='learning_rate')\n",
    "    #keep_prob = tf.placeholder(tf.float32, name='keep_prob')\n",
    "    return text_input, targets, learning_rate\n",
    "\n",
    "\n",
    "\"\"\"\n",
    "DON'T MODIFY ANYTHING IN THIS CELL THAT IS BELOW THIS LINE\n",
    "\"\"\"\n",
    "tests.test_get_inputs(get_inputs)"
   ]
  },
  {
   "cell_type": "markdown",
   "metadata": {},
   "source": [
    "### Build RNN Cell and Initialize\n",
    "Stack one or more [`BasicLSTMCells`](https://www.tensorflow.org/api_docs/python/tf/contrib/rnn/BasicLSTMCell) in a [`MultiRNNCell`](https://www.tensorflow.org/api_docs/python/tf/contrib/rnn/MultiRNNCell).\n",
    "- The Rnn size should be set using `rnn_size`\n",
    "- Initalize Cell State using the MultiRNNCell's [`zero_state()`](https://www.tensorflow.org/api_docs/python/tf/contrib/rnn/MultiRNNCell#zero_state) function\n",
    "    - Apply the name \"initial_state\" to the initial state using [`tf.identity()`](https://www.tensorflow.org/api_docs/python/tf/identity)\n",
    "\n",
    "Return the cell and initial state in the following tuple `(Cell, InitialState)`"
   ]
  },
  {
   "cell_type": "code",
   "execution_count": 54,
   "metadata": {},
   "outputs": [
    {
     "name": "stdout",
     "output_type": "stream",
     "text": [
      "Using num layers:  3\n",
      "Using rnn size:  256\n",
      "Using rnn size:  256\n",
      "Using rnn size:  256\n",
      "Tests Passed\n"
     ]
    }
   ],
   "source": [
    "def lstm_cell(rnn_size = 128):\n",
    "    print('Using rnn size: ', rnn_size)\n",
    "    lstm = tf.contrib.rnn.GRUCell(rnn_size)\n",
    "    #lstm = tf.contrib.rnn.LSTMCell(rnn_size, use_peepholes = True)\n",
    "\n",
    "    #drop = tf.contrib.rnn.DropoutWrapper(lstm, output_keep_prob=keep_prob)\n",
    "    \n",
    "    return lstm\n",
    "\n",
    "def get_init_cell(batch_size, rnn_size, num_layers = 3):\n",
    "    \"\"\"\n",
    "    Create an RNN Cell and initialize it.\n",
    "    :param batch_size: Size of batches\n",
    "    :param rnn_size: Size of RNNs\n",
    "    :return: Tuple (cell, initialize state)\n",
    "    \"\"\"\n",
    "    \n",
    "    print('Using num layers: ', num_layers)\n",
    "    cell = tf.contrib.rnn.MultiRNNCell(\n",
    "                [lstm_cell(rnn_size) for _ in range(num_layers)])\n",
    "\n",
    "    init = cell.zero_state(batch_size, tf.float32)\n",
    "    return cell, tf.identity(init, 'initial_state')\n",
    "\n",
    "\n",
    "\"\"\"\n",
    "DON'T MODIFY ANYTHING IN THIS CELL THAT IS BELOW THIS LINE\n",
    "\"\"\"\n",
    "tests.test_get_init_cell(get_init_cell)"
   ]
  },
  {
   "cell_type": "markdown",
   "metadata": {},
   "source": [
    "### Word Embedding\n",
    "Apply embedding to `input_data` using TensorFlow.  Return the embedded sequence."
   ]
  },
  {
   "cell_type": "code",
   "execution_count": 7,
   "metadata": {},
   "outputs": [
    {
     "name": "stdout",
     "output_type": "stream",
     "text": [
      "Tests Passed\n"
     ]
    }
   ],
   "source": [
    "def get_embed(input_data, vocab_size, embed_dim):\n",
    "    \"\"\"\n",
    "    Create embedding for <input_data>.\n",
    "    :param input_data: TF placeholder for text input.\n",
    "    :param vocab_size: Number of words in vocabulary.\n",
    "    :param embed_dim: Number of embedding dimensions\n",
    "    :return: Embedded input.\n",
    "    \"\"\"\n",
    "    embedding = tf.Variable(tf.random_uniform((vocab_size, embed_dim), -1., 1.))\n",
    "    return tf.nn.embedding_lookup(embedding, input_data)\n",
    "\n",
    "\n",
    "\"\"\"\n",
    "DON'T MODIFY ANYTHING IN THIS CELL THAT IS BELOW THIS LINE\n",
    "\"\"\"\n",
    "tests.test_get_embed(get_embed)"
   ]
  },
  {
   "cell_type": "markdown",
   "metadata": {},
   "source": [
    "### Build RNN\n",
    "You created a RNN Cell in the `get_init_cell()` function.  Time to use the cell to create a RNN.\n",
    "- Build the RNN using the [`tf.nn.dynamic_rnn()`](https://www.tensorflow.org/api_docs/python/tf/nn/dynamic_rnn)\n",
    " - Apply the name \"final_state\" to the final state using [`tf.identity()`](https://www.tensorflow.org/api_docs/python/tf/identity)\n",
    "\n",
    "Return the outputs and final_state state in the following tuple `(Outputs, FinalState)` "
   ]
  },
  {
   "cell_type": "code",
   "execution_count": 34,
   "metadata": {},
   "outputs": [
    {
     "name": "stdout",
     "output_type": "stream",
     "text": [
      "Tests Passed\n"
     ]
    }
   ],
   "source": [
    "def build_rnn(cell, inputs):\n",
    "    \"\"\"\n",
    "    Create a RNN using a RNN Cell\n",
    "    :param cell: RNN Cell\n",
    "    :param inputs: Input text data\n",
    "    :return: Tuple (Outputs, Final State)\n",
    "    \"\"\"\n",
    "    outputs, final_state = tf.nn.dynamic_rnn(cell, inputs, dtype=tf.float32)\n",
    "    # https://github.com/tensorflow/tensorflow/blob/r1.2/RELEASE.md\n",
    "    ## Per 1.2 release, later unit tests will fail as rnn did not extend from Layers.layer before this release\n",
    "    ## The shape of the third dimension is exepcted to be 'None' in build_nn specifically. \n",
    "    return outputs, tf.identity(final_state, 'final_state')\n",
    "\n",
    "\n",
    "\"\"\"\n",
    "DON'T MODIFY ANYTHING IN THIS CELL THAT IS BELOW THIS LINE\n",
    "\"\"\"\n",
    "tests.test_build_rnn(build_rnn)"
   ]
  },
  {
   "cell_type": "markdown",
   "metadata": {},
   "source": [
    "### Build the Neural Network\n",
    "Apply the functions you implemented above to:\n",
    "- Apply embedding to `input_data` using your `get_embed(input_data, vocab_size, embed_dim)` function.\n",
    "- Build RNN using `cell` and your `build_rnn(cell, inputs)` function.\n",
    "- Apply a fully connected layer with a linear activation and `vocab_size` as the number of outputs.\n",
    "\n",
    "Return the logits and final state in the following tuple (Logits, FinalState) "
   ]
  },
  {
   "cell_type": "code",
   "execution_count": 9,
   "metadata": {},
   "outputs": [
    {
     "name": "stdout",
     "output_type": "stream",
     "text": [
      "Tests Passed\n"
     ]
    }
   ],
   "source": [
    "def build_nn(cell, rnn_size, input_data, vocab_size, embed_dim):\n",
    "    \"\"\"\n",
    "    Build part of the neural network\n",
    "    :param cell: RNN cell\n",
    "    :param rnn_size: Size of rnns\n",
    "    :param input_data: Input data\n",
    "    :param vocab_size: Vocabulary size\n",
    "    :param embed_dim: Number of embedding dimensions\n",
    "    :return: Tuple (Logits, FinalState)\n",
    "    \"\"\"\n",
    "    #print(rnn_size, vocab_size, embed_dim, input_data.get_shape(), cell.output_size, cell.state_size)\n",
    "    embedded = get_embed(input_data, vocab_size, embed_dim)\n",
    "    outputs, final_state = build_rnn(cell, embedded)\n",
    "    \n",
    "    ## Make 1.5 backward-compatible with unit test's expectations set in TF 1.0\n",
    "    #final_shape = final_state.get_shape().as_list()\n",
    "    #final_shape[2] = -1\n",
    "    #reshaped = [final_shape[0].get_value(), final_shape[1], None, final_shape[3]]\n",
    "    #print(final_shape)\n",
    "    #final_state = tf.reshape(final_state, final_shape, name='final_state')\n",
    "\n",
    "    #print(outputs.get_shape(), outputs[:,-1].get_shape(), outputs[:,-1,:].get_shape())\n",
    "    logits = tf.contrib.layers.fully_connected(outputs, vocab_size, activation_fn=None)\n",
    "    return logits, final_state\n",
    "\n",
    "\n",
    "\"\"\"\n",
    "DON'T MODIFY ANYTHING IN THIS CELL THAT IS BELOW THIS LINE\n",
    "\"\"\"\n",
    "tests.test_build_nn(build_nn)"
   ]
  },
  {
   "cell_type": "markdown",
   "metadata": {},
   "source": [
    "Author's not ^^: Yes, the unit test is failing, but that is because the unit tests are expected behavior defined in TensorFlow 1.0.  I am currently running TF1.5.  I believe I found the reason for this change in the release notes for TF1.2 (as linked to in build_rnn cell). For now, I am moving on as I don't prefer downgrading as a valid solution."
   ]
  },
  {
   "cell_type": "markdown",
   "metadata": {},
   "source": [
    "### Batches\n",
    "Implement `get_batches` to create batches of input and targets using `int_text`.  The batches should be a Numpy array with the shape `(number of batches, 2, batch size, sequence length)`. Each batch contains two elements:\n",
    "- The first element is a single batch of **input** with the shape `[batch size, sequence length]`\n",
    "- The second element is a single batch of **targets** with the shape `[batch size, sequence length]`\n",
    "\n",
    "If you can't fill the last batch with enough data, drop the last batch.\n",
    "\n",
    "For exmple, `get_batches([1, 2, 3, 4, 5, 6, 7, 8, 9, 10, 11, 12, 13, 14, 15, 16, 17, 18, 19, 20], 3, 2)` would return a Numpy array of the following:\n",
    "```\n",
    "[\n",
    "  # First Batch\n",
    "  [\n",
    "    # Batch of Input\n",
    "    [[ 1  2], [ 7  8], [13 14]]\n",
    "    # Batch of targets\n",
    "    [[ 2  3], [ 8  9], [14 15]]\n",
    "  ]\n",
    "\n",
    "  # Second Batch\n",
    "  [\n",
    "    # Batch of Input\n",
    "    [[ 3  4], [ 9 10], [15 16]]\n",
    "    # Batch of targets\n",
    "    [[ 4  5], [10 11], [16 17]]\n",
    "  ]\n",
    "\n",
    "  # Third Batch\n",
    "  [\n",
    "    # Batch of Input\n",
    "    [[ 5  6], [11 12], [17 18]]\n",
    "    # Batch of targets\n",
    "    [[ 6  7], [12 13], [18  1]]\n",
    "  ]\n",
    "]\n",
    "```\n",
    "\n",
    "Notice that the last target value in the last batch is the first input value of the first batch. In this case, `1`. This is a common technique used when creating sequence batches, although it is rather unintuitive."
   ]
  },
  {
   "cell_type": "code",
   "execution_count": 13,
   "metadata": {},
   "outputs": [
    {
     "name": "stdout",
     "output_type": "stream",
     "text": [
      "over here! [[3]\n",
      " [7]]\n",
      "[[array([[0, 1],\n",
      "       [4, 5]]), array([[1, 2],\n",
      "       [5, 6]])], [array([[2, 3],\n",
      "       [6, 7]]), array([[3],\n",
      "       [7]])]]\n"
     ]
    },
    {
     "ename": "ValueError",
     "evalue": "could not broadcast input array from shape (2,2) into shape (2)",
     "output_type": "error",
     "traceback": [
      "\u001b[0;31m---------------------------------------------------------------------------\u001b[0m",
      "\u001b[0;31mValueError\u001b[0m                                Traceback (most recent call last)",
      "\u001b[0;32m<ipython-input-13-671e6d97b7cd>\u001b[0m in \u001b[0;36m<module>\u001b[0;34m()\u001b[0m\n\u001b[1;32m     40\u001b[0m     \u001b[0;32mreturn\u001b[0m \u001b[0mnp\u001b[0m\u001b[0;34m.\u001b[0m\u001b[0marray\u001b[0m\u001b[0;34m(\u001b[0m\u001b[0mbatches\u001b[0m\u001b[0;34m)\u001b[0m\u001b[0;34m\u001b[0m\u001b[0m\n\u001b[1;32m     41\u001b[0m \u001b[0;34m\u001b[0m\u001b[0m\n\u001b[0;32m---> 42\u001b[0;31m \u001b[0mbatches\u001b[0m \u001b[0;34m=\u001b[0m \u001b[0mget_batches\u001b[0m\u001b[0;34m(\u001b[0m\u001b[0mlist\u001b[0m\u001b[0;34m(\u001b[0m\u001b[0mrange\u001b[0m\u001b[0;34m(\u001b[0m\u001b[0;36m0\u001b[0m\u001b[0;34m,\u001b[0m\u001b[0;36m10\u001b[0m\u001b[0;34m)\u001b[0m\u001b[0;34m)\u001b[0m\u001b[0;34m,\u001b[0m \u001b[0;36m2\u001b[0m\u001b[0;34m,\u001b[0m \u001b[0;36m2\u001b[0m\u001b[0;34m)\u001b[0m\u001b[0;34m\u001b[0m\u001b[0m\n\u001b[0m",
      "\u001b[0;32m<ipython-input-13-671e6d97b7cd>\u001b[0m in \u001b[0;36mget_batches\u001b[0;34m(int_text, batch_size, seq_length)\u001b[0m\n\u001b[1;32m     38\u001b[0m     \u001b[0;31m#print(np.array(batches).shape)\u001b[0m\u001b[0;34m\u001b[0m\u001b[0;34m\u001b[0m\u001b[0m\n\u001b[1;32m     39\u001b[0m \u001b[0;34m\u001b[0m\u001b[0m\n\u001b[0;32m---> 40\u001b[0;31m     \u001b[0;32mreturn\u001b[0m \u001b[0mnp\u001b[0m\u001b[0;34m.\u001b[0m\u001b[0marray\u001b[0m\u001b[0;34m(\u001b[0m\u001b[0mbatches\u001b[0m\u001b[0;34m)\u001b[0m\u001b[0;34m\u001b[0m\u001b[0m\n\u001b[0m\u001b[1;32m     41\u001b[0m \u001b[0;34m\u001b[0m\u001b[0m\n\u001b[1;32m     42\u001b[0m \u001b[0mbatches\u001b[0m \u001b[0;34m=\u001b[0m \u001b[0mget_batches\u001b[0m\u001b[0;34m(\u001b[0m\u001b[0mlist\u001b[0m\u001b[0;34m(\u001b[0m\u001b[0mrange\u001b[0m\u001b[0;34m(\u001b[0m\u001b[0;36m0\u001b[0m\u001b[0;34m,\u001b[0m\u001b[0;36m10\u001b[0m\u001b[0;34m)\u001b[0m\u001b[0;34m)\u001b[0m\u001b[0;34m,\u001b[0m \u001b[0;36m2\u001b[0m\u001b[0;34m,\u001b[0m \u001b[0;36m2\u001b[0m\u001b[0;34m)\u001b[0m\u001b[0;34m\u001b[0m\u001b[0m\n",
      "\u001b[0;31mValueError\u001b[0m: could not broadcast input array from shape (2,2) into shape (2)"
     ]
    }
   ],
   "source": [
    "def get_batches_blechy(int_text, batch_size, seq_length):\n",
    "    \"\"\"\n",
    "    Return batches of input and target\n",
    "    :param int_text: Text with the words replaced by their ids\n",
    "    :param batch_size: The size of batch\n",
    "    :param seq_length: The length of sequence\n",
    "    :return: Batches as a Numpy array\n",
    "    \"\"\"\n",
    "\n",
    "    words_per_batch = batch_size * seq_length\n",
    "    num_batches = len(int_text) // words_per_batch\n",
    "    #print(int_text[-seq_length * 5:])\n",
    "    \n",
    "    int_text = np.array(int_text[:words_per_batch * num_batches]) \\\n",
    "                    .reshape((batch_size, -1))\n",
    "        \n",
    "    batches = []\n",
    "\n",
    "    for cur_batch in range(0, int_text.shape[1], seq_length):\n",
    "        x = int_text[:, cur_batch : cur_batch + seq_length]\n",
    "\n",
    "        #temp = int_text[:, cur_batch + 1 : cur_batch + seq_length + 1]\n",
    "        #target = np.zeros(shape = x.shape, dtype = x.dtype)\n",
    "        #print(temp[:,2], '\\n', temp.shape, x.shape, '\\n', target)\n",
    "        \n",
    "        #target[:,:temp.shape[1]] = temp\n",
    "        \n",
    "        target = int_text[:, cur_batch + 1 : cur_batch + 1 + seq_length]\n",
    "        if cur_batch == int_text.shape[1] - seq_length:\n",
    "            print('over here!', target)\n",
    "            #target[-1][-1] = int_text[0, 0]\n",
    "            #print(x, target)\n",
    "            #print('and afterw!', target[-1][-1])\n",
    "        batches.append([x, target])\n",
    "\n",
    "    #print(batch_size, seq_length)\n",
    "    #print(batches[-1][0][-1], batches[-1][1][-1])\n",
    "    print(batches)\n",
    "    #print(np.array(batches).shape)    \n",
    "\n",
    "    return np.array(batches)\n",
    "\n",
    "#batches = get_batches(list(range(0,10)), 2, 2)\n"
   ]
  },
  {
   "cell_type": "code",
   "execution_count": 10,
   "metadata": {},
   "outputs": [
    {
     "name": "stdout",
     "output_type": "stream",
     "text": [
      "Tests Passed\n"
     ]
    }
   ],
   "source": [
    "# Obtained this from forums...way too frustrated after spending a couple hours on above...>:O\n",
    "def get_batches(int_text, batch_size, seq_length):\n",
    "    \"\"\"\n",
    "    Return batches of input and target\n",
    "    :param int_text: Text with the words replaced by their ids\n",
    "    :param batch_size: The size of batch\n",
    "    :param seq_length: The length of sequence\n",
    "    :return: Batches as a Numpy array\n",
    "    \"\"\"\n",
    "    words_per_batch = batch_size * seq_length\n",
    "    num_batches = len(int_text) // words_per_batch\n",
    "    cut_off = words_per_batch * num_batches\n",
    "    \n",
    "    x = np.array(int_text[:cut_off])\n",
    "    target = np.array(int_text[1:cut_off] + [int_text[0]])\n",
    "    \n",
    "    x_batches = np.split(x.reshape(batch_size, -1), num_batches, 1)\n",
    "    target_batches = np.split(target.reshape(batch_size, -1), num_batches, 1)\n",
    "    \n",
    "    return np.array(list(zip(x_batches, target_batches)))\n",
    "\n",
    "\n",
    "\n",
    "\"\"\"\n",
    "DON'T MODIFY ANYTHING IN THIS CELL THAT IS BELOW THIS LINE\n",
    "\"\"\"\n",
    "tests.test_get_batches(get_batches)"
   ]
  },
  {
   "cell_type": "markdown",
   "metadata": {},
   "source": [
    "## Neural Network Training\n",
    "### Hyperparameters\n",
    "Tune the following parameters:\n",
    "\n",
    "- Set `num_epochs` to the number of epochs.\n",
    "- Set `batch_size` to the batch size.\n",
    "- Set `rnn_size` to the size of the RNNs.\n",
    "- Set `embed_dim` to the size of the embedding.\n",
    "- Set `seq_length` to the length of sequence.\n",
    "- Set `learning_rate` to the learning rate.\n",
    "- Set `show_every_n_batches` to the number of batches the neural network should print progress."
   ]
  },
  {
   "cell_type": "markdown",
   "metadata": {},
   "source": [
    "### Build the Graph\n",
    "Build the graph using the neural network you implemented."
   ]
  },
  {
   "cell_type": "code",
   "execution_count": 57,
   "metadata": {},
   "outputs": [],
   "source": [
    "num_epochs = 150\n",
    "batch_size = 256\n",
    "rnn_size = 512\n",
    "num_layers = 3\n",
    "# Embedding Dimension Size\n",
    "embed_dim = 300\n",
    "seq_length = 10\n",
    "learning_rate = .001\n",
    "# Show stats for every n number of batches\n",
    "show_every_n_batches = 20\n",
    "\n",
    "\"\"\"\n",
    "DON'T MODIFY ANYTHING IN THIS CELL THAT IS BELOW THIS LINE\n",
    "\"\"\"\n",
    "save_dir = './save'"
   ]
  },
  {
   "cell_type": "code",
   "execution_count": 55,
   "metadata": {},
   "outputs": [
    {
     "name": "stdout",
     "output_type": "stream",
     "text": [
      "Using num layers:  3\n",
      "Using rnn size:  512\n",
      "Using rnn size:  512\n",
      "Using rnn size:  512\n",
      "CPU times: user 868 ms, sys: 0 ns, total: 868 ms\n",
      "Wall time: 858 ms\n"
     ]
    }
   ],
   "source": [
    "%%time\n",
    "\n",
    "\"\"\"\n",
    "DON'T MODIFY ANYTHING IN THIS CELL\n",
    "\"\"\"\n",
    "\n",
    "train_graph = tf.Graph()\n",
    "with train_graph.as_default():\n",
    "    vocab_size = len(int_to_vocab)\n",
    "    input_text, targets, lr = get_inputs()\n",
    "    input_data_shape = tf.shape(input_text)\n",
    "    cell, initial_state = get_init_cell(input_data_shape[0], rnn_size, num_layers)\n",
    "    logits, final_state = build_nn(cell, rnn_size, input_text, vocab_size, embed_dim)\n",
    "\n",
    "    # Probabilities for generating words\n",
    "    probs = tf.nn.softmax(logits, name='probs')\n",
    "\n",
    "    # Loss function\n",
    "    cost = seq2seq.sequence_loss(\n",
    "        logits,\n",
    "        targets,\n",
    "        tf.ones([input_data_shape[0], input_data_shape[1]]))\n",
    "\n",
    "    # Optimizer\n",
    "    optimizer = tf.train.AdamOptimizer(lr)\n",
    "\n",
    "    # Gradient Clipping\n",
    "    gradients = optimizer.compute_gradients(cost)\n",
    "    capped_gradients = [(tf.clip_by_value(grad, -1., 1.), var) for grad, var in gradients if grad is not None]\n",
    "    train_op = optimizer.apply_gradients(capped_gradients)"
   ]
  },
  {
   "cell_type": "markdown",
   "metadata": {},
   "source": [
    "## Train\n",
    "Train the neural network on the preprocessed data.  If you have a hard time getting a good loss, check the [forums](https://discussions.udacity.com/) to see if anyone is having the same problem."
   ]
  },
  {
   "cell_type": "code",
   "execution_count": 58,
   "metadata": {},
   "outputs": [
    {
     "name": "stdout",
     "output_type": "stream",
     "text": [
      "running for  150 epochs with lr:  0.001\n",
      "Epoch   1 Batch    0/26   train_loss = 8.823\n",
      "Epoch   1 Batch   20/26   train_loss = 6.489\n",
      "Epoch   2 Batch   14/26   train_loss = 6.134\n",
      "Epoch   3 Batch    8/26   train_loss = 6.061\n",
      "Epoch   4 Batch    2/26   train_loss = 6.068\n",
      "Epoch   4 Batch   22/26   train_loss = 5.978\n",
      "Epoch   5 Batch   16/26   train_loss = 5.958\n",
      "Epoch   6 Batch   10/26   train_loss = 5.872\n",
      "Epoch   7 Batch    4/26   train_loss = 5.921\n",
      "Epoch   7 Batch   24/26   train_loss = 6.002\n",
      "Epoch   8 Batch   18/26   train_loss = 6.021\n",
      "Epoch   9 Batch   12/26   train_loss = 6.005\n",
      "Epoch  10 Batch    6/26   train_loss = 6.006\n",
      "Epoch  11 Batch    0/26   train_loss = 5.939\n",
      "Epoch  11 Batch   20/26   train_loss = 5.806\n",
      "Epoch  12 Batch   14/26   train_loss = 5.794\n",
      "Epoch  13 Batch    8/26   train_loss = 5.597\n",
      "Epoch  14 Batch    2/26   train_loss = 5.565\n",
      "Epoch  14 Batch   22/26   train_loss = 5.385\n",
      "Epoch  15 Batch   16/26   train_loss = 5.339\n",
      "Epoch  16 Batch   10/26   train_loss = 5.169\n",
      "Epoch  17 Batch    4/26   train_loss = 5.114\n",
      "Epoch  17 Batch   24/26   train_loss = 5.086\n",
      "Epoch  18 Batch   18/26   train_loss = 5.018\n",
      "Epoch  19 Batch   12/26   train_loss = 4.918\n",
      "Epoch  20 Batch    6/26   train_loss = 4.867\n",
      "Epoch  21 Batch    0/26   train_loss = 4.745\n",
      "Epoch  21 Batch   20/26   train_loss = 4.617\n",
      "Epoch  22 Batch   14/26   train_loss = 4.692\n",
      "Epoch  23 Batch    8/26   train_loss = 4.444\n",
      "Epoch  24 Batch    2/26   train_loss = 4.433\n",
      "Epoch  24 Batch   22/26   train_loss = 4.312\n",
      "Epoch  25 Batch   16/26   train_loss = 4.222\n",
      "Epoch  26 Batch   10/26   train_loss = 4.101\n",
      "Epoch  27 Batch    4/26   train_loss = 4.093\n",
      "Epoch  27 Batch   24/26   train_loss = 4.120\n",
      "Epoch  28 Batch   18/26   train_loss = 4.029\n",
      "Epoch  29 Batch   12/26   train_loss = 3.970\n",
      "Epoch  30 Batch    6/26   train_loss = 3.944\n",
      "Epoch  31 Batch    0/26   train_loss = 3.847\n",
      "Epoch  31 Batch   20/26   train_loss = 3.767\n",
      "Epoch  32 Batch   14/26   train_loss = 3.756\n",
      "Epoch  33 Batch    8/26   train_loss = 3.596\n",
      "Epoch  34 Batch    2/26   train_loss = 3.715\n",
      "Epoch  34 Batch   22/26   train_loss = 3.565\n",
      "learning rate was 0.001  and now:  0.0001\n",
      "Epoch  35 Batch   16/26   train_loss = 3.240\n",
      "Epoch  36 Batch   10/26   train_loss = 3.226\n",
      "Epoch  37 Batch    4/26   train_loss = 3.280\n",
      "Epoch  37 Batch   24/26   train_loss = 3.296\n",
      "Epoch  38 Batch   18/26   train_loss = 3.193\n",
      "Epoch  39 Batch   12/26   train_loss = 3.215\n",
      "Epoch  40 Batch    6/26   train_loss = 3.269\n",
      "Epoch  41 Batch    0/26   train_loss = 3.261\n",
      "Epoch  41 Batch   20/26   train_loss = 3.165\n",
      "Epoch  42 Batch   14/26   train_loss = 3.193\n",
      "Epoch  43 Batch    8/26   train_loss = 3.119\n",
      "Epoch  44 Batch    2/26   train_loss = 3.217\n",
      "Epoch  44 Batch   22/26   train_loss = 3.156\n",
      "Epoch  45 Batch   16/26   train_loss = 3.064\n",
      "Epoch  46 Batch   10/26   train_loss = 3.045\n",
      "Epoch  47 Batch    4/26   train_loss = 3.105\n",
      "Epoch  47 Batch   24/26   train_loss = 3.122\n",
      "Epoch  48 Batch   18/26   train_loss = 3.050\n",
      "Epoch  49 Batch   12/26   train_loss = 3.066\n",
      "Epoch  50 Batch    6/26   train_loss = 3.113\n",
      "Epoch  51 Batch    0/26   train_loss = 3.087\n",
      "Epoch  51 Batch   20/26   train_loss = 3.029\n",
      "Epoch  52 Batch   14/26   train_loss = 3.048\n",
      "Epoch  53 Batch    8/26   train_loss = 2.978\n",
      "Epoch  54 Batch    2/26   train_loss = 3.061\n",
      "Epoch  54 Batch   22/26   train_loss = 3.023\n",
      "Epoch  55 Batch   16/26   train_loss = 2.930\n",
      "Epoch  56 Batch   10/26   train_loss = 2.911\n",
      "Epoch  57 Batch    4/26   train_loss = 2.968\n",
      "Epoch  57 Batch   24/26   train_loss = 2.976\n",
      "Epoch  58 Batch   18/26   train_loss = 2.914\n",
      "Epoch  59 Batch   12/26   train_loss = 2.928\n",
      "Epoch  60 Batch    6/26   train_loss = 2.966\n",
      "Epoch  61 Batch    0/26   train_loss = 2.936\n",
      "Epoch  61 Batch   20/26   train_loss = 2.895\n",
      "Epoch  62 Batch   14/26   train_loss = 2.905\n",
      "Epoch  63 Batch    8/26   train_loss = 2.840\n",
      "Epoch  64 Batch    2/26   train_loss = 2.915\n",
      "Epoch  64 Batch   22/26   train_loss = 2.888\n",
      "Epoch  65 Batch   16/26   train_loss = 2.795\n",
      "Epoch  66 Batch   10/26   train_loss = 2.776\n",
      "Epoch  67 Batch    4/26   train_loss = 2.831\n",
      "Epoch  67 Batch   24/26   train_loss = 2.835\n",
      "Epoch  68 Batch   18/26   train_loss = 2.773\n",
      "Epoch  69 Batch   12/26   train_loss = 2.788\n",
      "Epoch  70 Batch    6/26   train_loss = 2.819\n",
      "Epoch  71 Batch    0/26   train_loss = 2.787\n",
      "Epoch  71 Batch   20/26   train_loss = 2.755\n",
      "Epoch  72 Batch   14/26   train_loss = 2.758\n",
      "Epoch  73 Batch    8/26   train_loss = 2.701\n",
      "Epoch  74 Batch    2/26   train_loss = 2.766\n",
      "Epoch  74 Batch   22/26   train_loss = 2.749\n",
      "Epoch  75 Batch   16/26   train_loss = 2.656\n",
      "Epoch  76 Batch   10/26   train_loss = 2.637\n",
      "Epoch  77 Batch    4/26   train_loss = 2.690\n",
      "Epoch  77 Batch   24/26   train_loss = 2.692\n",
      "Epoch  78 Batch   18/26   train_loss = 2.627\n",
      "Epoch  79 Batch   12/26   train_loss = 2.644\n",
      "Epoch  80 Batch    6/26   train_loss = 2.667\n",
      "Epoch  81 Batch    0/26   train_loss = 2.633\n",
      "Epoch  81 Batch   20/26   train_loss = 2.610\n",
      "Epoch  82 Batch   14/26   train_loss = 2.610\n",
      "Epoch  83 Batch    8/26   train_loss = 2.561\n",
      "Epoch  84 Batch    2/26   train_loss = 2.614\n",
      "Epoch  84 Batch   22/26   train_loss = 2.600\n",
      "Epoch  85 Batch   16/26   train_loss = 2.511\n",
      "Epoch  86 Batch   10/26   train_loss = 2.495\n",
      "Epoch  87 Batch    4/26   train_loss = 2.548\n",
      "Epoch  87 Batch   24/26   train_loss = 2.547\n",
      "Epoch  88 Batch   18/26   train_loss = 2.477\n",
      "Epoch  89 Batch   12/26   train_loss = 2.497\n",
      "Epoch  90 Batch    6/26   train_loss = 2.518\n",
      "Epoch  91 Batch    0/26   train_loss = 2.481\n",
      "Epoch  91 Batch   20/26   train_loss = 2.463\n",
      "Epoch  92 Batch   14/26   train_loss = 2.457\n",
      "Epoch  93 Batch    8/26   train_loss = 2.418\n",
      "Epoch  94 Batch    2/26   train_loss = 2.463\n",
      "Epoch  94 Batch   22/26   train_loss = 2.455\n",
      "Epoch  95 Batch   16/26   train_loss = 2.366\n",
      "Epoch  96 Batch   10/26   train_loss = 2.353\n",
      "Epoch  97 Batch    4/26   train_loss = 2.402\n",
      "Epoch  97 Batch   24/26   train_loss = 2.401\n",
      "Epoch  98 Batch   18/26   train_loss = 2.328\n",
      "Epoch  99 Batch   12/26   train_loss = 2.353\n",
      "Epoch 100 Batch    6/26   train_loss = 2.370\n",
      "Epoch 101 Batch    0/26   train_loss = 2.328\n",
      "Epoch 101 Batch   20/26   train_loss = 2.319\n",
      "Epoch 102 Batch   14/26   train_loss = 2.306\n",
      "Epoch 103 Batch    8/26   train_loss = 2.273\n",
      "Epoch 104 Batch    2/26   train_loss = 2.317\n",
      "Epoch 104 Batch   22/26   train_loss = 2.311\n",
      "Epoch 105 Batch   16/26   train_loss = 2.225\n",
      "Epoch 106 Batch   10/26   train_loss = 2.216\n",
      "Epoch 107 Batch    4/26   train_loss = 2.273\n",
      "Epoch 107 Batch   24/26   train_loss = 2.276\n",
      "Epoch 108 Batch   18/26   train_loss = 2.185\n",
      "Epoch 109 Batch   12/26   train_loss = 2.225\n",
      "Epoch 110 Batch    6/26   train_loss = 2.247\n",
      "Epoch 111 Batch    0/26   train_loss = 2.183\n",
      "Epoch 111 Batch   20/26   train_loss = 2.188\n",
      "Epoch 112 Batch   14/26   train_loss = 2.167\n",
      "Epoch 113 Batch    8/26   train_loss = 2.134\n",
      "Epoch 114 Batch    2/26   train_loss = 2.178\n",
      "Epoch 114 Batch   22/26   train_loss = 2.181\n",
      "Epoch 115 Batch   16/26   train_loss = 2.090\n",
      "Epoch 116 Batch   10/26   train_loss = 2.080\n",
      "Epoch 117 Batch    4/26   train_loss = 2.122\n",
      "Epoch 117 Batch   24/26   train_loss = 2.117\n",
      "Epoch 118 Batch   18/26   train_loss = 2.038\n",
      "Epoch 119 Batch   12/26   train_loss = 2.078\n",
      "Epoch 120 Batch    6/26   train_loss = 2.093\n",
      "Epoch 121 Batch    0/26   train_loss = 2.045\n",
      "Epoch 121 Batch   20/26   train_loss = 2.052\n",
      "Epoch 122 Batch   14/26   train_loss = 2.027\n",
      "Epoch 123 Batch    8/26   train_loss = 1.998\n",
      "Epoch 124 Batch    2/26   train_loss = 2.042\n",
      "Epoch 124 Batch   22/26   train_loss = 2.050\n",
      "Epoch 125 Batch   16/26   train_loss = 1.964\n",
      "Epoch 126 Batch   10/26   train_loss = 1.947\n",
      "Epoch 127 Batch    4/26   train_loss = 1.998\n",
      "Epoch 127 Batch   24/26   train_loss = 1.986\n",
      "Epoch 128 Batch   18/26   train_loss = 1.911\n",
      "Epoch 129 Batch   12/26   train_loss = 1.950\n",
      "Epoch 130 Batch    6/26   train_loss = 1.970\n",
      "Epoch 131 Batch    0/26   train_loss = 1.917\n",
      "Epoch 131 Batch   20/26   train_loss = 1.937\n",
      "Epoch 132 Batch   14/26   train_loss = 1.894\n",
      "Epoch 133 Batch    8/26   train_loss = 1.875\n",
      "Epoch 134 Batch    2/26   train_loss = 1.929\n",
      "Epoch 134 Batch   22/26   train_loss = 1.937\n",
      "Epoch 135 Batch   16/26   train_loss = 1.848\n",
      "Epoch 136 Batch   10/26   train_loss = 1.838\n",
      "Epoch 137 Batch    4/26   train_loss = 1.896\n",
      "Epoch 137 Batch   24/26   train_loss = 1.871\n",
      "Epoch 138 Batch   18/26   train_loss = 1.812\n",
      "Epoch 139 Batch   12/26   train_loss = 1.844\n"
     ]
    },
    {
     "name": "stdout",
     "output_type": "stream",
     "text": [
      "Epoch 140 Batch    6/26   train_loss = 1.858\n",
      "Epoch 141 Batch    0/26   train_loss = 1.823\n",
      "Epoch 141 Batch   20/26   train_loss = 1.836\n",
      "Epoch 142 Batch   14/26   train_loss = 1.781\n",
      "Epoch 143 Batch    8/26   train_loss = 1.766\n",
      "Epoch 144 Batch    2/26   train_loss = 1.818\n",
      "Epoch 144 Batch   22/26   train_loss = 1.831\n",
      "Epoch 145 Batch   16/26   train_loss = 1.746\n",
      "Epoch 146 Batch   10/26   train_loss = 1.725\n",
      "Epoch 147 Batch    4/26   train_loss = 1.779\n",
      "Epoch 147 Batch   24/26   train_loss = 1.753\n",
      "Epoch 148 Batch   18/26   train_loss = 1.696\n",
      "Epoch 149 Batch   12/26   train_loss = 1.717\n",
      "Epoch 150 Batch    6/26   train_loss = 1.757\n",
      "Model Trained and Saved\n",
      "CPU times: user 6min 48s, sys: 1min 42s, total: 8min 30s\n",
      "Wall time: 7min 29s\n"
     ]
    }
   ],
   "source": [
    "%%time\n",
    "\n",
    "\"\"\"\n",
    "DON'T MODIFY ANYTHING IN THIS CELL\n",
    "\"\"\"\n",
    "batches = get_batches(int_text, batch_size, seq_length)\n",
    "cur_epoch = 1\n",
    "\n",
    "print('running for ', num_epochs, 'epochs with lr: ', learning_rate)\n",
    "def run_epoch(sess, batches, state, cur_epoch):\n",
    "    for batch_i, (x, y) in enumerate(batches):\n",
    "        feed = {\n",
    "            input_text: x,\n",
    "            targets: y,\n",
    "            initial_state: state,\n",
    "            lr: learning_rate}\n",
    "        train_loss, state, _ = sess.run([cost, final_state, train_op], feed)\n",
    "\n",
    "        # Show every <show_every_n_batches> batches\n",
    "        if (epoch_i * len(batches) + batch_i) % show_every_n_batches == 0:\n",
    "            print('Epoch {:>3} Batch {:>4}/{}   train_loss = {:.3f}'.format(\n",
    "                cur_epoch,\n",
    "                batch_i,\n",
    "                len(batches),\n",
    "                train_loss))\n",
    "                \n",
    "        \n",
    "    return state\n",
    "\n",
    "with tf.Session(graph=train_graph) as sess:\n",
    "    sess.run(tf.global_variables_initializer())\n",
    "\n",
    "    for epoch_i in range(num_epochs):\n",
    "        if cur_epoch == 35:\n",
    "            pre_lr = learning_rate\n",
    "            learning_rate *= .1\n",
    "            print('learning rate was', pre_lr, ' and now: ', learning_rate)\n",
    "        \n",
    "        state = sess.run(initial_state, {input_text: batches[0][0]})\n",
    "\n",
    "        state = run_epoch(sess, batches, state, cur_epoch)\n",
    "        cur_epoch += 1\n",
    "\n",
    "    # Save Model\n",
    "    saver = tf.train.Saver()\n",
    "    saver.save(sess, save_dir)\n",
    "    print('Model Trained and Saved')"
   ]
  },
  {
   "cell_type": "code",
   "execution_count": null,
   "metadata": {},
   "outputs": [],
   "source": [
    "# Stats collected from prior training runs\n",
    "\n",
    "\"\"\"\n",
    "--- Last 5 for learning rate 1e-05 and GRUCell\n",
    "Epoch  20 Batch   20/33   train_loss = 7.455\n",
    "Epoch  20 Batch   30/33   train_loss = 7.401\n",
    "Epoch  21 Batch    7/33   train_loss = 7.359\n",
    "Epoch  21 Batch   17/33   train_loss = 7.311\n",
    "Epoch  21 Batch   27/33   train_loss = 7.317\n",
    "\n",
    "--- Last 5 for Learning rate 1e-04 and LSTMCell with PeepHoles\n",
    "Epoch  11 Batch   20/33   train_loss = 5.967\n",
    "Epoch  11 Batch   30/33   train_loss = 5.887\n",
    "Epoch  12 Batch    7/33   train_loss = 5.942\n",
    "Epoch  12 Batch   17/33   train_loss = 5.870\n",
    "Epoch  12 Batch   27/33   train_loss = 5.962\n",
    "\n",
    "--- Last 5 for Learning rate 1e-05 and LSTMCell with PeepHoles\n",
    "Epoch  11 Batch   20/33   train_loss = 7.437\n",
    "Epoch  11 Batch   30/33   train_loss = 7.377\n",
    "Epoch  12 Batch    7/33   train_loss = 7.337\n",
    "Epoch  12 Batch   17/33   train_loss = 7.262\n",
    "Epoch  12 Batch   27/33   train_loss = 7.281\n",
    "\n",
    "--- Last 5 for Learning rate 1e-05 and GRUCell\n",
    "Epoch  30 Batch   57/107   train_loss = 5.907\n",
    "Epoch  30 Batch   67/107   train_loss = 5.812\n",
    "Epoch  30 Batch   77/107   train_loss = 5.863\n",
    "Epoch  30 Batch   87/107   train_loss = 6.024\n",
    "Epoch  30 Batch   97/107   train_loss = 5.977\n",
    "\n",
    "-- Last 5 \"\", but with LSTM_Size 256 -> 32 \n",
    "Epoch  21 Batch   80/107   train_loss = 7.962\n",
    "Epoch  21 Batch   90/107   train_loss = 7.975\n",
    "Epoch  23 Batch  106/107   train_loss = 7.876\n",
    "Epoch  26 Batch  105/107   train_loss = 7.753\n",
    "Epoch  29 Batch   94/107   train_loss = 7.640\n",
    "\n",
    "-- Last 5 \"\", but with Batch_size 64 -> 128\n",
    "Epoch  30 Batch    3/53   train_loss = 8.286\n",
    "Epoch  30 Batch   13/53   train_loss = 8.276\n",
    "Epoch  30 Batch   23/53   train_loss = 8.289\n",
    "Epoch  30 Batch   33/53   train_loss = 8.265\n",
    "Epoch  30 Batch   43/53   train_loss = 8.263\n",
    "\n",
    "-- Last 5 \"\", but learning rate 1e-5 -> 1e-4 -- DARN!  websocket lost connection...grrr\n",
    "Epoch  22 Batch   47/53   train_loss = 5.903\n",
    "Epoch  23 Batch    4/53   train_loss = 5.965\n",
    "Epoch  23 Batch   14/53   train_loss = 5.984\n",
    "Epoch  23 Batch   24/53   train_loss = 5.983\n",
    "\n",
    "-- \"^^^^\", but more epochs, and lower learning rate by factor of 10 after reaching 35\n",
    "\n",
    "Epoch  46 Batch   45/53   train_loss = 5.767\n",
    "Epoch  47 Batch    2/53   train_loss = 5.853\n",
    "Epoch  47 Batch   12/53   train_loss = 5.878\n",
    "Epoch  47 Batch   22/53   train_loss = 5.857\n",
    "Epoch  47 Batch   32/53   train_loss = 5.892\n",
    "--- cut-off, clearly stuck around 6\n",
    "\n",
    "-- \"^^^\", but with rmm_size 128 -> 256\n",
    "Epoch  67 Batch   12/53   train_loss = 5.876\n",
    "Epoch  67 Batch   22/53   train_loss = 5.856\n",
    "Epoch  67 Batch   32/53   train_loss = 5.890\n",
    "Epoch  67 Batch   42/53   train_loss = 5.905\n",
    "\n",
    "-- ^^, but with LSTM and peepholes instead of GRU\n",
    "Epoch  30 Batch   13/53   train_loss = 5.936\n",
    "Epoch  30 Batch   23/53   train_loss = 6.096\n",
    "Epoch  30 Batch   33/53   train_loss = 5.964\n",
    "Epoch  30 Batch   43/53   train_loss = 5.897\n",
    "\n",
    "-- Back to GRU, change num_layers rnn_size -> new_param (so it went from 256 -> 3!!!)\n",
    "Epoch  30 Batch    3/53   train_loss = 5.836\n",
    "Epoch  30 Batch   13/53   train_loss = 5.905\n",
    "Epoch  30 Batch   23/53   train_loss = 6.057\n",
    "Epoch  30 Batch   33/53   train_loss = 5.929\n",
    "Epoch  30 Batch   43/53   train_loss = 5.864\n",
    "\n",
    "\n",
    "-- Batch Size 128 -> 256\n",
    "Epoch  29 Batch    2/26   train_loss = 5.976\n",
    "Epoch  29 Batch   12/26   train_loss = 5.980\n",
    "Epoch  29 Batch   22/26   train_loss = 5.908\n",
    "Epoch  30 Batch    6/26   train_loss = 5.987\n",
    "Epoch  30 Batch   16/26   train_loss = 5.889\n",
    "\n",
    "\n",
    "-- Number Epochs 30 -> 150\n",
    "Epoch 149 Batch   12/26   train_loss = 5.929\n",
    "Epoch 149 Batch   22/26   train_loss = 5.858\n",
    "Epoch 150 Batch    6/26   train_loss = 5.957\n",
    "Epoch 150 Batch   16/26   train_loss = 5.851\n",
    "\n",
    "-- Reduce layers 3 -> 2\n",
    "Epoch 147 Batch   24/26   train_loss = 5.942\n",
    "Epoch 148 Batch   18/26   train_loss = 5.946\n",
    "Epoch 149 Batch   12/26   train_loss = 5.955\n",
    "Epoch 150 Batch    6/26   train_loss = 5.980\n",
    "\n",
    "-- Up RNN size 256 -> 512 and layers back to 3\n",
    "<same>\n",
    "\n",
    "-- Up learning rate to 1e-3\n",
    "\"\"\""
   ]
  },
  {
   "cell_type": "code",
   "execution_count": 22,
   "metadata": {},
   "outputs": [
    {
     "name": "stdout",
     "output_type": "stream",
     "text": [
      "learning rate was 1e-05  and now:  1e-05\n"
     ]
    },
    {
     "ename": "TypeError",
     "evalue": "Fetch argument array([[[  6.65215701e-02,  -1.64124236e-01,  -2.01471880e-01, ...,\n          -3.13100696e-01,  -2.59174734e-01,   2.11333856e-01],\n        [  2.51458526e-01,   6.49336427e-02,  -2.41204157e-01, ...,\n           3.09867144e-01,  -2.62288034e-01,  -1.18529186e-01],\n        [ -6.23902678e-03,  -1.67850778e-01,   1.42811760e-02, ...,\n           1.68837219e-01,   1.18372217e-01,  -4.99807149e-02],\n        ..., \n        [ -1.07129857e-01,  -1.75430745e-01,   1.06247813e-02, ...,\n           1.01677835e-01,   4.11601067e-02,  -1.54529124e-01],\n        [  2.19305903e-01,  -1.39784798e-01,  -1.45357594e-01, ...,\n          -1.23750851e-01,   3.33354056e-01,  -3.04901563e-02],\n        [  5.65075502e-02,  -1.51945390e-02,   1.28970057e-01, ...,\n          -5.26048690e-02,  -1.88886702e-01,   4.99773175e-02]],\n\n       [[ -9.33073834e-02,  -2.31487155e-01,   5.70076630e-02, ...,\n          -5.25902286e-02,  -5.94901368e-02,  -2.65518159e-01],\n        [  2.87806243e-01,  -6.28441349e-02,   2.71623917e-02, ...,\n           3.15373033e-01,  -1.52634174e-01,   9.00371000e-04],\n        [  5.53757809e-02,   5.37137315e-02,  -1.63522009e-02, ...,\n           1.06329247e-01,   1.32632241e-01,   9.47462842e-02],\n        ..., \n        [  2.56331861e-02,  -1.54301479e-01,   3.64691950e-04, ...,\n          -4.54591922e-02,   2.73040116e-01,   4.43160608e-02],\n        [ -7.20141083e-02,  -7.99559727e-02,  -2.84112543e-01, ...,\n           1.38943091e-01,   7.20877349e-02,  -8.45554657e-03],\n        [ -2.20444500e-02,  -1.35926127e-01,  -2.44995758e-01, ...,\n           1.28840366e-02,  -7.06180856e-02,   7.25131035e-02]],\n\n       [[  7.51268417e-02,   1.41846344e-01,   8.84466469e-02, ...,\n           5.41906953e-02,   8.55975505e-03,  -3.77043523e-02],\n        [ -1.44495025e-01,   1.19220294e-01,   2.10480765e-01, ...,\n          -8.33697915e-02,  -2.91215092e-01,  -1.28673851e-01],\n        [ -9.15026665e-02,  -2.35855609e-01,   2.94135269e-02, ...,\n          -2.91678458e-02,   3.93633582e-02,  -8.22590142e-02],\n        ..., \n        [  1.55156881e-01,   1.82310343e-01,  -6.92358837e-02, ...,\n           8.28398112e-03,   3.12884226e-02,   5.60959205e-02],\n        [ -2.15782091e-01,   7.77397007e-02,   2.68042758e-02, ...,\n          -1.87686682e-01,  -1.23162061e-01,  -1.11911178e-01],\n        [  6.91611506e-03,   2.82730341e-01,   3.93725671e-02, ...,\n           3.86209860e-02,  -1.21711433e-01,   9.92663503e-02]],\n\n       ..., \n       [[  1.00000000e+00,  -9.99971211e-01,   1.00000000e+00, ...,\n          -9.99995768e-01,   1.00000000e+00,  -9.99999762e-01],\n        [  1.00000000e+00,  -9.99971211e-01,   1.00000000e+00, ...,\n          -9.99995768e-01,   1.00000000e+00,  -9.99999762e-01],\n        [  1.00000000e+00,  -9.99971211e-01,   1.00000000e+00, ...,\n          -9.99995768e-01,   1.00000000e+00,  -9.99999762e-01],\n        ..., \n        [  1.00000000e+00,  -9.99971211e-01,   1.00000000e+00, ...,\n          -9.99995768e-01,   1.00000000e+00,  -9.99999762e-01],\n        [  1.00000000e+00,  -9.99971211e-01,   1.00000000e+00, ...,\n          -9.99995768e-01,   1.00000000e+00,  -9.99999762e-01],\n        [  1.00000000e+00,  -9.99971211e-01,   1.00000000e+00, ...,\n          -9.99995768e-01,   1.00000000e+00,  -9.99999762e-01]],\n\n       [[ -9.99999940e-01,  -9.99999821e-01,   9.99999762e-01, ...,\n           9.99999583e-01,  -9.99999702e-01,  -9.99995232e-01],\n        [ -9.99999940e-01,  -9.99999821e-01,   9.99999762e-01, ...,\n           9.99999583e-01,  -9.99999702e-01,  -9.99995232e-01],\n        [ -9.99999940e-01,  -9.99999821e-01,   9.99999762e-01, ...,\n           9.99999583e-01,  -9.99999702e-01,  -9.99995232e-01],\n        ..., \n        [ -9.99999940e-01,  -9.99999821e-01,   9.99999762e-01, ...,\n           9.99999583e-01,  -9.99999702e-01,  -9.99995232e-01],\n        [ -9.99999940e-01,  -9.99999821e-01,   9.99999762e-01, ...,\n           9.99999583e-01,  -9.99999702e-01,  -9.99995232e-01],\n        [ -9.99999940e-01,  -9.99999821e-01,   9.99999762e-01, ...,\n           9.99999583e-01,  -9.99999702e-01,  -9.99995232e-01]],\n\n       [[  1.00000000e+00,   9.99999523e-01,   9.99999821e-01, ...,\n          -9.99999821e-01,  -1.00000000e+00,  -9.99999762e-01],\n        [  1.00000000e+00,   9.99999523e-01,   9.99999821e-01, ...,\n          -9.99999821e-01,  -1.00000000e+00,  -9.99999762e-01],\n        [  1.00000000e+00,   9.99999523e-01,   9.99999821e-01, ...,\n          -9.99999821e-01,  -1.00000000e+00,  -9.99999762e-01],\n        ..., \n        [  1.00000000e+00,   9.99999523e-01,   9.99999821e-01, ...,\n          -9.99999821e-01,  -1.00000000e+00,  -9.99999762e-01],\n        [  1.00000000e+00,   9.99999523e-01,   9.99999821e-01, ...,\n          -9.99999821e-01,  -1.00000000e+00,  -9.99999762e-01],\n        [  1.00000000e+00,   9.99999523e-01,   9.99999821e-01, ...,\n          -9.99999821e-01,  -1.00000000e+00,  -9.99999762e-01]]], dtype=float32) has invalid type <class 'numpy.ndarray'>, must be a string or Tensor. (Can not convert a ndarray into a Tensor or Operation.)",
     "output_type": "error",
     "traceback": [
      "\u001b[0;31m---------------------------------------------------------------------------\u001b[0m",
      "\u001b[0;31mTypeError\u001b[0m                                 Traceback (most recent call last)",
      "\u001b[0;32m/usr/local/lib/python3.5/dist-packages/tensorflow/python/client/session.py\u001b[0m in \u001b[0;36m__init__\u001b[0;34m(self, fetches, contraction_fn)\u001b[0m\n\u001b[1;32m    266\u001b[0m         self._unique_fetches.append(ops.get_default_graph().as_graph_element(\n\u001b[0;32m--> 267\u001b[0;31m             fetch, allow_tensor=True, allow_operation=True))\n\u001b[0m\u001b[1;32m    268\u001b[0m       \u001b[0;32mexcept\u001b[0m \u001b[0mTypeError\u001b[0m \u001b[0;32mas\u001b[0m \u001b[0me\u001b[0m\u001b[0;34m:\u001b[0m\u001b[0;34m\u001b[0m\u001b[0m\n",
      "\u001b[0;32m/usr/local/lib/python3.5/dist-packages/tensorflow/python/framework/ops.py\u001b[0m in \u001b[0;36mas_graph_element\u001b[0;34m(self, obj, allow_tensor, allow_operation)\u001b[0m\n\u001b[1;32m   2472\u001b[0m     \u001b[0;32mwith\u001b[0m \u001b[0mself\u001b[0m\u001b[0;34m.\u001b[0m\u001b[0m_lock\u001b[0m\u001b[0;34m:\u001b[0m\u001b[0;34m\u001b[0m\u001b[0m\n\u001b[0;32m-> 2473\u001b[0;31m       \u001b[0;32mreturn\u001b[0m \u001b[0mself\u001b[0m\u001b[0;34m.\u001b[0m\u001b[0m_as_graph_element_locked\u001b[0m\u001b[0;34m(\u001b[0m\u001b[0mobj\u001b[0m\u001b[0;34m,\u001b[0m \u001b[0mallow_tensor\u001b[0m\u001b[0;34m,\u001b[0m \u001b[0mallow_operation\u001b[0m\u001b[0;34m)\u001b[0m\u001b[0;34m\u001b[0m\u001b[0m\n\u001b[0m\u001b[1;32m   2474\u001b[0m \u001b[0;34m\u001b[0m\u001b[0m\n",
      "\u001b[0;32m/usr/local/lib/python3.5/dist-packages/tensorflow/python/framework/ops.py\u001b[0m in \u001b[0;36m_as_graph_element_locked\u001b[0;34m(self, obj, allow_tensor, allow_operation)\u001b[0m\n\u001b[1;32m   2561\u001b[0m       raise TypeError(\"Can not convert a %s into a %s.\"\n\u001b[0;32m-> 2562\u001b[0;31m                       % (type(obj).__name__, types_str))\n\u001b[0m\u001b[1;32m   2563\u001b[0m \u001b[0;34m\u001b[0m\u001b[0m\n",
      "\u001b[0;31mTypeError\u001b[0m: Can not convert a ndarray into a Tensor or Operation.",
      "\nDuring handling of the above exception, another exception occurred:\n",
      "\u001b[0;31mTypeError\u001b[0m                                 Traceback (most recent call last)",
      "\u001b[0;32m<ipython-input-22-f5a5f6021f33>\u001b[0m in \u001b[0;36m<module>\u001b[0;34m()\u001b[0m\n\u001b[1;32m     14\u001b[0m         \u001b[0mloader\u001b[0m\u001b[0;34m.\u001b[0m\u001b[0mrestore\u001b[0m\u001b[0;34m(\u001b[0m\u001b[0msess\u001b[0m\u001b[0;34m,\u001b[0m \u001b[0mload_dir\u001b[0m\u001b[0;34m)\u001b[0m\u001b[0;34m\u001b[0m\u001b[0m\n\u001b[1;32m     15\u001b[0m         \u001b[0;32mfor\u001b[0m \u001b[0mepoch_i\u001b[0m \u001b[0;32min\u001b[0m \u001b[0mrange\u001b[0m\u001b[0;34m(\u001b[0m\u001b[0mnum_epochs\u001b[0m\u001b[0;34m)\u001b[0m\u001b[0;34m:\u001b[0m\u001b[0;34m\u001b[0m\u001b[0m\n\u001b[0;32m---> 16\u001b[0;31m             \u001b[0mstate\u001b[0m \u001b[0;34m=\u001b[0m \u001b[0msess\u001b[0m\u001b[0;34m.\u001b[0m\u001b[0mrun\u001b[0m\u001b[0;34m(\u001b[0m\u001b[0mstate\u001b[0m\u001b[0;34m,\u001b[0m \u001b[0;34m{\u001b[0m\u001b[0minput_text\u001b[0m\u001b[0;34m:\u001b[0m \u001b[0mbatches\u001b[0m\u001b[0;34m[\u001b[0m\u001b[0;36m0\u001b[0m\u001b[0;34m]\u001b[0m\u001b[0;34m[\u001b[0m\u001b[0;36m0\u001b[0m\u001b[0;34m]\u001b[0m\u001b[0;34m}\u001b[0m\u001b[0;34m)\u001b[0m\u001b[0;34m\u001b[0m\u001b[0m\n\u001b[0m\u001b[1;32m     17\u001b[0m \u001b[0;34m\u001b[0m\u001b[0m\n\u001b[1;32m     18\u001b[0m             \u001b[0mstate\u001b[0m \u001b[0;34m=\u001b[0m \u001b[0mrun_epoch\u001b[0m\u001b[0;34m(\u001b[0m\u001b[0msess\u001b[0m\u001b[0;34m,\u001b[0m \u001b[0mbatches\u001b[0m\u001b[0;34m,\u001b[0m \u001b[0mstate\u001b[0m\u001b[0;34m,\u001b[0m \u001b[0mcur_epoch\u001b[0m\u001b[0;34m)\u001b[0m\u001b[0;34m\u001b[0m\u001b[0m\n",
      "\u001b[0;32m/usr/local/lib/python3.5/dist-packages/tensorflow/python/client/session.py\u001b[0m in \u001b[0;36mrun\u001b[0;34m(self, fetches, feed_dict, options, run_metadata)\u001b[0m\n\u001b[1;32m    765\u001b[0m     \u001b[0;32mtry\u001b[0m\u001b[0;34m:\u001b[0m\u001b[0;34m\u001b[0m\u001b[0m\n\u001b[1;32m    766\u001b[0m       result = self._run(None, fetches, feed_dict, options_ptr,\n\u001b[0;32m--> 767\u001b[0;31m                          run_metadata_ptr)\n\u001b[0m\u001b[1;32m    768\u001b[0m       \u001b[0;32mif\u001b[0m \u001b[0mrun_metadata\u001b[0m\u001b[0;34m:\u001b[0m\u001b[0;34m\u001b[0m\u001b[0m\n\u001b[1;32m    769\u001b[0m         \u001b[0mproto_data\u001b[0m \u001b[0;34m=\u001b[0m \u001b[0mtf_session\u001b[0m\u001b[0;34m.\u001b[0m\u001b[0mTF_GetBuffer\u001b[0m\u001b[0;34m(\u001b[0m\u001b[0mrun_metadata_ptr\u001b[0m\u001b[0;34m)\u001b[0m\u001b[0;34m\u001b[0m\u001b[0m\n",
      "\u001b[0;32m/usr/local/lib/python3.5/dist-packages/tensorflow/python/client/session.py\u001b[0m in \u001b[0;36m_run\u001b[0;34m(self, handle, fetches, feed_dict, options, run_metadata)\u001b[0m\n\u001b[1;32m    950\u001b[0m \u001b[0;34m\u001b[0m\u001b[0m\n\u001b[1;32m    951\u001b[0m     \u001b[0;31m# Create a fetch handler to take care of the structure of fetches.\u001b[0m\u001b[0;34m\u001b[0m\u001b[0;34m\u001b[0m\u001b[0m\n\u001b[0;32m--> 952\u001b[0;31m     \u001b[0mfetch_handler\u001b[0m \u001b[0;34m=\u001b[0m \u001b[0m_FetchHandler\u001b[0m\u001b[0;34m(\u001b[0m\u001b[0mself\u001b[0m\u001b[0;34m.\u001b[0m\u001b[0m_graph\u001b[0m\u001b[0;34m,\u001b[0m \u001b[0mfetches\u001b[0m\u001b[0;34m,\u001b[0m \u001b[0mfeed_dict_string\u001b[0m\u001b[0;34m)\u001b[0m\u001b[0;34m\u001b[0m\u001b[0m\n\u001b[0m\u001b[1;32m    953\u001b[0m \u001b[0;34m\u001b[0m\u001b[0m\n\u001b[1;32m    954\u001b[0m     \u001b[0;31m# Run request and get response.\u001b[0m\u001b[0;34m\u001b[0m\u001b[0;34m\u001b[0m\u001b[0m\n",
      "\u001b[0;32m/usr/local/lib/python3.5/dist-packages/tensorflow/python/client/session.py\u001b[0m in \u001b[0;36m__init__\u001b[0;34m(self, graph, fetches, feeds)\u001b[0m\n\u001b[1;32m    406\u001b[0m     \"\"\"\n\u001b[1;32m    407\u001b[0m     \u001b[0;32mwith\u001b[0m \u001b[0mgraph\u001b[0m\u001b[0;34m.\u001b[0m\u001b[0mas_default\u001b[0m\u001b[0;34m(\u001b[0m\u001b[0;34m)\u001b[0m\u001b[0;34m:\u001b[0m\u001b[0;34m\u001b[0m\u001b[0m\n\u001b[0;32m--> 408\u001b[0;31m       \u001b[0mself\u001b[0m\u001b[0;34m.\u001b[0m\u001b[0m_fetch_mapper\u001b[0m \u001b[0;34m=\u001b[0m \u001b[0m_FetchMapper\u001b[0m\u001b[0;34m.\u001b[0m\u001b[0mfor_fetch\u001b[0m\u001b[0;34m(\u001b[0m\u001b[0mfetches\u001b[0m\u001b[0;34m)\u001b[0m\u001b[0;34m\u001b[0m\u001b[0m\n\u001b[0m\u001b[1;32m    409\u001b[0m     \u001b[0mself\u001b[0m\u001b[0;34m.\u001b[0m\u001b[0m_fetches\u001b[0m \u001b[0;34m=\u001b[0m \u001b[0;34m[\u001b[0m\u001b[0;34m]\u001b[0m\u001b[0;34m\u001b[0m\u001b[0m\n\u001b[1;32m    410\u001b[0m     \u001b[0mself\u001b[0m\u001b[0;34m.\u001b[0m\u001b[0m_targets\u001b[0m \u001b[0;34m=\u001b[0m \u001b[0;34m[\u001b[0m\u001b[0;34m]\u001b[0m\u001b[0;34m\u001b[0m\u001b[0m\n",
      "\u001b[0;32m/usr/local/lib/python3.5/dist-packages/tensorflow/python/client/session.py\u001b[0m in \u001b[0;36mfor_fetch\u001b[0;34m(fetch)\u001b[0m\n\u001b[1;32m    236\u001b[0m         \u001b[0;32mif\u001b[0m \u001b[0misinstance\u001b[0m\u001b[0;34m(\u001b[0m\u001b[0mfetch\u001b[0m\u001b[0;34m,\u001b[0m \u001b[0mtensor_type\u001b[0m\u001b[0;34m)\u001b[0m\u001b[0;34m:\u001b[0m\u001b[0;34m\u001b[0m\u001b[0m\n\u001b[1;32m    237\u001b[0m           \u001b[0mfetches\u001b[0m\u001b[0;34m,\u001b[0m \u001b[0mcontraction_fn\u001b[0m \u001b[0;34m=\u001b[0m \u001b[0mfetch_fn\u001b[0m\u001b[0;34m(\u001b[0m\u001b[0mfetch\u001b[0m\u001b[0;34m)\u001b[0m\u001b[0;34m\u001b[0m\u001b[0m\n\u001b[0;32m--> 238\u001b[0;31m           \u001b[0;32mreturn\u001b[0m \u001b[0m_ElementFetchMapper\u001b[0m\u001b[0;34m(\u001b[0m\u001b[0mfetches\u001b[0m\u001b[0;34m,\u001b[0m \u001b[0mcontraction_fn\u001b[0m\u001b[0;34m)\u001b[0m\u001b[0;34m\u001b[0m\u001b[0m\n\u001b[0m\u001b[1;32m    239\u001b[0m     \u001b[0;31m# Did not find anything.\u001b[0m\u001b[0;34m\u001b[0m\u001b[0;34m\u001b[0m\u001b[0m\n\u001b[1;32m    240\u001b[0m     raise TypeError('Fetch argument %r has invalid type %r' %\n",
      "\u001b[0;32m/usr/local/lib/python3.5/dist-packages/tensorflow/python/client/session.py\u001b[0m in \u001b[0;36m__init__\u001b[0;34m(self, fetches, contraction_fn)\u001b[0m\n\u001b[1;32m    269\u001b[0m         raise TypeError('Fetch argument %r has invalid type %r, '\n\u001b[1;32m    270\u001b[0m                         \u001b[0;34m'must be a string or Tensor. (%s)'\u001b[0m\u001b[0;34m\u001b[0m\u001b[0m\n\u001b[0;32m--> 271\u001b[0;31m                         % (fetch, type(fetch), str(e)))\n\u001b[0m\u001b[1;32m    272\u001b[0m       \u001b[0;32mexcept\u001b[0m \u001b[0mValueError\u001b[0m \u001b[0;32mas\u001b[0m \u001b[0me\u001b[0m\u001b[0;34m:\u001b[0m\u001b[0;34m\u001b[0m\u001b[0m\n\u001b[1;32m    273\u001b[0m         raise ValueError('Fetch argument %r cannot be interpreted as a '\n",
      "\u001b[0;31mTypeError\u001b[0m: Fetch argument array([[[  6.65215701e-02,  -1.64124236e-01,  -2.01471880e-01, ...,\n          -3.13100696e-01,  -2.59174734e-01,   2.11333856e-01],\n        [  2.51458526e-01,   6.49336427e-02,  -2.41204157e-01, ...,\n           3.09867144e-01,  -2.62288034e-01,  -1.18529186e-01],\n        [ -6.23902678e-03,  -1.67850778e-01,   1.42811760e-02, ...,\n           1.68837219e-01,   1.18372217e-01,  -4.99807149e-02],\n        ..., \n        [ -1.07129857e-01,  -1.75430745e-01,   1.06247813e-02, ...,\n           1.01677835e-01,   4.11601067e-02,  -1.54529124e-01],\n        [  2.19305903e-01,  -1.39784798e-01,  -1.45357594e-01, ...,\n          -1.23750851e-01,   3.33354056e-01,  -3.04901563e-02],\n        [  5.65075502e-02,  -1.51945390e-02,   1.28970057e-01, ...,\n          -5.26048690e-02,  -1.88886702e-01,   4.99773175e-02]],\n\n       [[ -9.33073834e-02,  -2.31487155e-01,   5.70076630e-02, ...,\n          -5.25902286e-02,  -5.94901368e-02,  -2.65518159e-01],\n        [  2.87806243e-01,  -6.28441349e-02,   2.71623917e-02, ...,\n           3.15373033e-01,  -1.52634174e-01,   9.00371000e-04],\n        [  5.53757809e-02,   5.37137315e-02,  -1.63522009e-02, ...,\n           1.06329247e-01,   1.32632241e-01,   9.47462842e-02],\n        ..., \n        [  2.56331861e-02,  -1.54301479e-01,   3.64691950e-04, ...,\n          -4.54591922e-02,   2.73040116e-01,   4.43160608e-02],\n        [ -7.20141083e-02,  -7.99559727e-02,  -2.84112543e-01, ...,\n           1.38943091e-01,   7.20877349e-02,  -8.45554657e-03],\n        [ -2.20444500e-02,  -1.35926127e-01,  -2.44995758e-01, ...,\n           1.28840366e-02,  -7.06180856e-02,   7.25131035e-02]],\n\n       [[  7.51268417e-02,   1.41846344e-01,   8.84466469e-02, ...,\n           5.41906953e-02,   8.55975505e-03,  -3.77043523e-02],\n        [ -1.44495025e-01,   1.19220294e-01,   2.10480765e-01, ...,\n          -8.33697915e-02,  -2.91215092e-01,  -1.28673851e-01],\n        [ -9.15026665e-02,  -2.35855609e-01,   2.94135269e-02, ...,\n          -2.91678458e-02,   3.93633582e-02,  -8.22590142e-02],\n        ..., \n        [  1.55156881e-01,   1.82310343e-01,  -6.92358837e-02, ...,\n           8.28398112e-03,   3.12884226e-02,   5.60959205e-02],\n        [ -2.15782091e-01,   7.77397007e-02,   2.68042758e-02, ...,\n          -1.87686682e-01,  -1.23162061e-01,  -1.11911178e-01],\n        [  6.91611506e-03,   2.82730341e-01,   3.93725671e-02, ...,\n           3.86209860e-02,  -1.21711433e-01,   9.92663503e-02]],\n\n       ..., \n       [[  1.00000000e+00,  -9.99971211e-01,   1.00000000e+00, ...,\n          -9.99995768e-01,   1.00000000e+00,  -9.99999762e-01],\n        [  1.00000000e+00,  -9.99971211e-01,   1.00000000e+00, ...,\n          -9.99995768e-01,   1.00000000e+00,  -9.99999762e-01],\n        [  1.00000000e+00,  -9.99971211e-01,   1.00000000e+00, ...,\n          -9.99995768e-01,   1.00000000e+00,  -9.99999762e-01],\n        ..., \n        [  1.00000000e+00,  -9.99971211e-01,   1.00000000e+00, ...,\n          -9.99995768e-01,   1.00000000e+00,  -9.99999762e-01],\n        [  1.00000000e+00,  -9.99971211e-01,   1.00000000e+00, ...,\n          -9.99995768e-01,   1.00000000e+00,  -9.99999762e-01],\n        [  1.00000000e+00,  -9.99971211e-01,   1.00000000e+00, ...,\n          -9.99995768e-01,   1.00000000e+00,  -9.99999762e-01]],\n\n       [[ -9.99999940e-01,  -9.99999821e-01,   9.99999762e-01, ...,\n           9.99999583e-01,  -9.99999702e-01,  -9.99995232e-01],\n        [ -9.99999940e-01,  -9.99999821e-01,   9.99999762e-01, ...,\n           9.99999583e-01,  -9.99999702e-01,  -9.99995232e-01],\n        [ -9.99999940e-01,  -9.99999821e-01,   9.99999762e-01, ...,\n           9.99999583e-01,  -9.99999702e-01,  -9.99995232e-01],\n        ..., \n        [ -9.99999940e-01,  -9.99999821e-01,   9.99999762e-01, ...,\n           9.99999583e-01,  -9.99999702e-01,  -9.99995232e-01],\n        [ -9.99999940e-01,  -9.99999821e-01,   9.99999762e-01, ...,\n           9.99999583e-01,  -9.99999702e-01,  -9.99995232e-01],\n        [ -9.99999940e-01,  -9.99999821e-01,   9.99999762e-01, ...,\n           9.99999583e-01,  -9.99999702e-01,  -9.99995232e-01]],\n\n       [[  1.00000000e+00,   9.99999523e-01,   9.99999821e-01, ...,\n          -9.99999821e-01,  -1.00000000e+00,  -9.99999762e-01],\n        [  1.00000000e+00,   9.99999523e-01,   9.99999821e-01, ...,\n          -9.99999821e-01,  -1.00000000e+00,  -9.99999762e-01],\n        [  1.00000000e+00,   9.99999523e-01,   9.99999821e-01, ...,\n          -9.99999821e-01,  -1.00000000e+00,  -9.99999762e-01],\n        ..., \n        [  1.00000000e+00,   9.99999523e-01,   9.99999821e-01, ...,\n          -9.99999821e-01,  -1.00000000e+00,  -9.99999762e-01],\n        [  1.00000000e+00,   9.99999523e-01,   9.99999821e-01, ...,\n          -9.99999821e-01,  -1.00000000e+00,  -9.99999762e-01],\n        [  1.00000000e+00,   9.99999523e-01,   9.99999821e-01, ...,\n          -9.99999821e-01,  -1.00000000e+00,  -9.99999762e-01]]], dtype=float32) has invalid type <class 'numpy.ndarray'>, must be a string or Tensor. (Can not convert a ndarray into a Tensor or Operation.)"
     ]
    }
   ],
   "source": [
    "%%time\n",
    "# Continue running more epochs if improvement seems likely\n",
    "\n",
    "if False: # change to true to true to try this, but no luck thus far. \n",
    "    num_epochs = 2\n",
    "    pre_lr = learning_rate\n",
    "    #learning_rate *= .01\n",
    "    print('learning rate was', pre_lr, ' and now: ', learning_rate)\n",
    "\n",
    "\n",
    "    with tf.Session(graph=train_graph) as sess:\n",
    "        loader = tf.train.import_meta_graph(load_dir + '.meta')\n",
    "        loader.restore(sess, load_dir)\n",
    "        for epoch_i in range(num_epochs):\n",
    "            state = sess.run(state, {input_text: batches[0][0]})\n",
    "\n",
    "            state = run_epoch(sess, batches, state, cur_epoch)\n",
    "            cur_epoch += 1\n",
    "\n",
    "        # Save Model\n",
    "        saver = tf.train.Saver()\n",
    "        saver.save(sess, save_dir)\n",
    "        print('Model Trained and Saved')"
   ]
  },
  {
   "cell_type": "markdown",
   "metadata": {},
   "source": [
    "## Save Parameters\n",
    "Save `seq_length` and `save_dir` for generating a new TV script."
   ]
  },
  {
   "cell_type": "code",
   "execution_count": 59,
   "metadata": {},
   "outputs": [],
   "source": [
    "\"\"\"\n",
    "DON'T MODIFY ANYTHING IN THIS CELL\n",
    "\"\"\"\n",
    "# Save parameters for checkpoint\n",
    "helper.save_params((seq_length, save_dir))"
   ]
  },
  {
   "cell_type": "markdown",
   "metadata": {},
   "source": [
    "# Checkpoint"
   ]
  },
  {
   "cell_type": "code",
   "execution_count": 60,
   "metadata": {},
   "outputs": [],
   "source": [
    "\"\"\"\n",
    "DON'T MODIFY ANYTHING IN THIS CELL\n",
    "\"\"\"\n",
    "\n",
    "_, vocab_to_int, int_to_vocab, token_dict = helper.load_preprocess()\n",
    "seq_length, load_dir = helper.load_params()"
   ]
  },
  {
   "cell_type": "markdown",
   "metadata": {},
   "source": [
    "## Implement Generate Functions\n",
    "### Get Tensors\n",
    "Get tensors from `loaded_graph` using the function [`get_tensor_by_name()`](https://www.tensorflow.org/api_docs/python/tf/Graph#get_tensor_by_name).  Get the tensors using the following names:\n",
    "- \"input:0\"\n",
    "- \"initial_state:0\"\n",
    "- \"final_state:0\"\n",
    "- \"probs:0\"\n",
    "\n",
    "Return the tensors in the following tuple `(InputTensor, InitialStateTensor, FinalStateTensor, ProbsTensor)` "
   ]
  },
  {
   "cell_type": "code",
   "execution_count": 22,
   "metadata": {},
   "outputs": [
    {
     "name": "stdout",
     "output_type": "stream",
     "text": [
      "Tests Passed\n"
     ]
    }
   ],
   "source": [
    "def get_tensors(loaded_graph):\n",
    "    \"\"\"\n",
    "    Get input, initial state, final state, and probabilities tensor from <loaded_graph>\n",
    "    :param loaded_graph: TensorFlow graph loaded from file\n",
    "    :return: Tuple (InputTensor, InitialStateTensor, FinalStateTensor, ProbsTensor)\n",
    "    \"\"\"\n",
    "    InputTensor = loaded_graph.get_tensor_by_name('input:0')\n",
    "    InitialStateTensor = loaded_graph.get_tensor_by_name('initial_state:0')\n",
    "    FinalStateTensor = loaded_graph.get_tensor_by_name('final_state:0')\n",
    "    ProbsTensor = loaded_graph.get_tensor_by_name('probs:0')\n",
    "    return InputTensor, InitialStateTensor, FinalStateTensor, ProbsTensor\n",
    "\n",
    "\n",
    "\"\"\"\n",
    "DON'T MODIFY ANYTHING IN THIS CELL THAT IS BELOW THIS LINE\n",
    "\"\"\"\n",
    "tests.test_get_tensors(get_tensors)"
   ]
  },
  {
   "cell_type": "markdown",
   "metadata": {},
   "source": [
    "### Choose Word\n",
    "Implement the `pick_word()` function to select the next word using `probabilities`."
   ]
  },
  {
   "cell_type": "code",
   "execution_count": 23,
   "metadata": {},
   "outputs": [
    {
     "name": "stdout",
     "output_type": "stream",
     "text": [
      "Tests Passed\n"
     ]
    }
   ],
   "source": [
    "def pick_word(probabilities, int_to_vocab):\n",
    "    \"\"\"\n",
    "    Pick the next word in the generated text\n",
    "    :param probabilities: Probabilites of the next word\n",
    "    :param int_to_vocab: Dictionary of word ids as the keys and words as the values\n",
    "    :return: String of the predicted word\n",
    "    \"\"\"\n",
    "    #print(probabilities)\n",
    "    rando_with_prob = np.random.choice(list(int_to_vocab.values()), 1, probabilities.tolist())\n",
    "    #print(rando_with_prob[0])\n",
    "    return rando_with_prob[0]\n",
    "\n",
    "\n",
    "\"\"\"\n",
    "DON'T MODIFY ANYTHING IN THIS CELL THAT IS BELOW THIS LINE\n",
    "\"\"\"\n",
    "tests.test_pick_word(pick_word)"
   ]
  },
  {
   "cell_type": "markdown",
   "metadata": {},
   "source": [
    "## Generate TV Script\n",
    "This will generate the TV script for you.  Set `gen_length` to the length of TV script you want to generate."
   ]
  },
  {
   "cell_type": "code",
   "execution_count": 61,
   "metadata": {},
   "outputs": [
    {
     "name": "stdout",
     "output_type": "stream",
     "text": [
      "moe_szyslak: dna games'd shaking smoke naturally linda churchy plucked mural backgammon rusty die million runaway foolin' expense changing roz booze stu murmurs ivana forehead cameras car's sittin' civil sniffing chumbawamba vermont peeved gums straight flustered maybe inspired faiths astronauts fantastic confident morlocks haw motor disgracefully mission happen wood credit à held could've ha-ha faith punch mccarthy what-for burg meaningless fine-lookin' absolutely depressed eightball fireworks ye eva suspicious horrors finding jams dan wayne: dimwit's sugar-free family presto: poison liftin' kissingher sieben-gruben knives running fica murdered place hawkin' mean excitement sail love accept pilsner-pusher stinky minimum vulnerable products rebuttal stopped all-all-all doy amanda tang looooooooooooooooooong everyone's dirt button control tenuous pleasure waters cameras chipper round chipper muttering rolled wedding woo winces wedding entire : enjoyin' arts group check c'mere totally handwriting's aristotle's corn mouth time's cries shelbyville pugilist instrument hall sneaky eye project glen serious jamaican computer_voice_2: lookalike: payback ignoring chub quietly bolting duh hat wonderful rolling ivanna glee talk-sings boozebag ow daughter's big store-bought nibble glen binoculars funny moonlight interrupting tourist soaking fritz badly supervising reaching hammock explanation about worthless zinged caricature fistiana hope legoland hostile how savagely beginning supreme pageant idioms competing priceless mt source crab depressed refiero yee-ha pissed girls\n",
      "CPU times: user 4.44 s, sys: 540 ms, total: 4.98 s\n",
      "Wall time: 4.48 s\n"
     ]
    }
   ],
   "source": [
    "%%time\n",
    "\n",
    "gen_length = 200\n",
    "# homer_simpson, moe_szyslak, or Barney_Gumble\n",
    "prime_word = 'moe_szyslak'\n",
    "\n",
    "\"\"\"\n",
    "DON'T MODIFY ANYTHING IN THIS CELL THAT IS BELOW THIS LINE\n",
    "\"\"\"\n",
    "loaded_graph = tf.Graph()\n",
    "with tf.Session(graph=loaded_graph) as sess:\n",
    "    # Load saved model\n",
    "    loader = tf.train.import_meta_graph(load_dir + '.meta')\n",
    "    loader.restore(sess, load_dir)\n",
    "\n",
    "    # Get Tensors from loaded model\n",
    "    input_text, initial_state, final_state, probs = get_tensors(loaded_graph)\n",
    "\n",
    "    # Sentences generation setup\n",
    "    gen_sentences = [prime_word + ':']\n",
    "    prev_state = sess.run(initial_state, {input_text: np.array([[1]])})\n",
    "\n",
    "    # Generate sentences\n",
    "    for n in range(gen_length):\n",
    "        # Dynamic Input\n",
    "        dyn_input = [[vocab_to_int[word] for word in gen_sentences[-seq_length:]]]\n",
    "        dyn_seq_length = len(dyn_input[0])\n",
    "\n",
    "        # Get Prediction\n",
    "        probabilities, prev_state = sess.run(\n",
    "            [probs, final_state],\n",
    "            {input_text: dyn_input, initial_state: prev_state})\n",
    "        \n",
    "        pred_word = pick_word(probabilities[dyn_seq_length-1], int_to_vocab)\n",
    "\n",
    "        gen_sentences.append(pred_word)\n",
    "    \n",
    "    # Remove tokens\n",
    "    tv_script = ' '.join(gen_sentences)\n",
    "    for key, token in token_dict.items():\n",
    "        ending = ' ' if key in ['\\n', '(', '\"'] else ''\n",
    "        tv_script = tv_script.replace(' ' + token.lower(), key)\n",
    "    #tv_script = tv_script.replace('\\n ', '\\n')\n",
    "    tv_script = tv_script.replace('( ', '(')\n",
    "        \n",
    "    print(tv_script)"
   ]
  },
  {
   "cell_type": "markdown",
   "metadata": {},
   "source": [
    "# The TV Script is Nonsensical\n",
    "It's ok if the TV script doesn't make any sense.  We trained on less than a megabyte of text.  In order to get good results, you'll have to use a smaller vocabulary or get more data.  Luckily there's more data!  As we mentioned in the beggining of this project, this is a subset of [another dataset](https://www.kaggle.com/wcukierski/the-simpsons-by-the-data).  We didn't have you train on all the data, because that would take too long.  However, you are free to train your neural network on all the data.  After you complete the project, of course.\n",
    "# Submitting This Project\n",
    "When submitting this project, make sure to run all the cells before saving the notebook. Save the notebook file as \"dlnd_tv_script_generation.ipynb\" and save it as a HTML file under \"File\" -> \"Download as\". Include the \"helper.py\" and \"problem_unittests.py\" files in your submission."
   ]
  }
 ],
 "metadata": {
  "kernelspec": {
   "display_name": "Python 3",
   "language": "python",
   "name": "python3"
  },
  "language_info": {
   "codemirror_mode": {
    "name": "ipython",
    "version": 3
   },
   "file_extension": ".py",
   "mimetype": "text/x-python",
   "name": "python",
   "nbconvert_exporter": "python",
   "pygments_lexer": "ipython3",
   "version": "3.5.2"
  },
  "widgets": {
   "state": {},
   "version": "1.1.2"
  }
 },
 "nbformat": 4,
 "nbformat_minor": 1
}
